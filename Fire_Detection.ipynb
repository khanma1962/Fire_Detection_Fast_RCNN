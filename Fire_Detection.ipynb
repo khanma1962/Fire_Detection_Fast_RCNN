{
  "nbformat": 4,
  "nbformat_minor": 0,
  "metadata": {
    "colab": {
      "name": "Fire Detection.ipynb",
      "provenance": [],
      "collapsed_sections": [],
      "include_colab_link": true
    },
    "interpreter": {
      "hash": "c58f2551bfdf9e42157a429507266a8739121a6215263c5b37cfd970d18b7ca9"
    },
    "kernelspec": {
      "display_name": "Python 3.7.6 64-bit ('base': conda)",
      "name": "python3"
    },
    "language_info": {
      "codemirror_mode": {
        "name": "ipython",
        "version": 3
      },
      "file_extension": ".py",
      "mimetype": "text/x-python",
      "name": "python",
      "nbconvert_exporter": "python",
      "pygments_lexer": "ipython3",
      "version": "3.7.6"
    }
  },
  "cells": [
    {
      "cell_type": "markdown",
      "metadata": {
        "id": "view-in-github",
        "colab_type": "text"
      },
      "source": [
        "<a href=\"https://colab.research.google.com/github/khanma1962/Fire_Detection_Faster_RCNN/blob/main/Fire_Detection.ipynb\" target=\"_parent\"><img src=\"https://colab.research.google.com/assets/colab-badge.svg\" alt=\"Open In Colab\"/></a>"
      ]
    },
    {
      "cell_type": "markdown",
      "metadata": {
        "id": "JtmhIcc-_7yT"
      },
      "source": [
        "# Fire Detection Using Faster R-CNN"
      ]
    },
    {
      "cell_type": "markdown",
      "metadata": {
        "id": "R85VF42SAGpX"
      },
      "source": [
        "# Paper Referred\n",
        "\n",
        "https://arxiv.org/pdf/1506.01497.pdf\n",
        "\n",
        "### Github Repository\n",
        "https://github.com/pytorch/vision/tree/master/references/detection\n",
        "\n",
        "### Faster R-CNN Tutorial from\n",
        "https://www.telesens.co/2018/03/11/object-detection-and-classification-using-r-cnns/\n",
        "\n",
        "https://pytorch.org/tutorials/intermediate/torchvision_tutorial.html\n",
        "\n",
        "https://www.kaggle.com/moekhan/pytorch-starter-fasterrcnn-train/edit\n",
        "\n",
        "https://blog.francium.tech/object-detection-with-faster-rcnn-bc2e4295bf49\n"
      ]
    },
    {
      "cell_type": "code",
      "metadata": {
        "id": "FyS0kl3k_ywc"
      },
      "source": [
        ""
      ],
      "execution_count": null,
      "outputs": []
    },
    {
      "cell_type": "code",
      "metadata": {
        "colab": {
          "base_uri": "https://localhost:8080/"
        },
        "id": "suRVF18w_t9s",
        "outputId": "b772461a-cd97-47b8-b7b8-1b22f89779ec"
      },
      "source": [
        "from google.colab import drive\n",
        "drive.mount('/content/drive')"
      ],
      "execution_count": 1,
      "outputs": [
        {
          "output_type": "stream",
          "text": [
            "Mounted at /content/drive\n"
          ],
          "name": "stdout"
        }
      ]
    },
    {
      "cell_type": "markdown",
      "metadata": {
        "id": "MjOEgdJZdXFe"
      },
      "source": [
        "# Calling Libraries"
      ]
    },
    {
      "cell_type": "code",
      "metadata": {
        "id": "PCDVlX2s_yzr"
      },
      "source": [
        "# Calling all the libraries\n",
        "import numpy as np\n",
        "import pandas as pd\n",
        "import torch\n",
        "import torch.utils.data\n",
        "import torchvision \n",
        "import torch.nn as nn\n",
        "import torch.nn.functional as F\n",
        "from torchvision.models.detection.faster_rcnn import FasterRCNN, FastRCNNPredictor\n",
        "from torchvision import transforms\n",
        "import matplotlib.pyplot as plt\n",
        "import cv2\n",
        "from PIL import Image\n",
        "import os\n"
      ],
      "execution_count": 2,
      "outputs": []
    },
    {
      "cell_type": "code",
      "metadata": {
        "id": "s6eiF-Rn_y2e",
        "colab": {
          "base_uri": "https://localhost:8080/"
        },
        "outputId": "f21a2608-aec1-4d73-a719-649b122d230d"
      },
      "source": [
        "# checking for cuda\n",
        "if (torch.cuda.is_available()):\n",
        "    device = torch.device('cude')\n",
        "    print(f'device is {device} and device name is {torch.cuda.get_device_name(0)}')\n",
        "else:\n",
        "    device = torch.device('cpu')\n",
        "    print(f'Connected to {str(device).upper()}')\n"
      ],
      "execution_count": 3,
      "outputs": [
        {
          "output_type": "stream",
          "text": [
            "Connected to CPU\n"
          ],
          "name": "stdout"
        }
      ]
    },
    {
      "cell_type": "code",
      "metadata": {
        "id": "MYVXUHryh0xa",
        "colab": {
          "base_uri": "https://localhost:8080/"
        },
        "outputId": "905af571-5fb6-416c-db88-4e445788ea3a"
      },
      "source": [
        "%%shell\n",
        "\n",
        "# Torchvision repo to use some utilities\n",
        "\n",
        "git clone https://github.com/pytorch/vision.git\n",
        "cd vision\n",
        "git checkout v0.3.0\n",
        "\n",
        "# copy some files to Google colab\n",
        "cp references/detection/utils.py ../\n",
        "cp references/detection/transformers.py ../\n",
        "cp references/detection/engine.py ../\n"
      ],
      "execution_count": null,
      "outputs": [
        {
          "output_type": "stream",
          "text": [
            "Cloning into 'vision'...\n",
            "remote: Enumerating objects: 31324, done.\u001b[K\n",
            "remote: Counting objects: 100% (3867/3867), done.\u001b[K\n",
            "remote: Compressing objects: 100% (883/883), done.\u001b[K\n",
            "remote: Total 31324 (delta 3025), reused 3691 (delta 2909), pack-reused 27457\u001b[K\n",
            "Receiving objects: 100% (31324/31324), 38.44 MiB | 28.05 MiB/s, done.\n",
            "Resolving deltas: 100% (23641/23641), done.\n",
            "Note: checking out 'v0.3.0'.\n",
            "\n",
            "You are in 'detached HEAD' state. You can look around, make experimental\n",
            "changes and commit them, and you can discard any commits you make in this\n",
            "state without impacting any branches by performing another checkout.\n",
            "\n",
            "If you want to create a new branch to retain commits you create, you may\n",
            "do so (now or later) by using -b with the checkout command again. Example:\n",
            "\n",
            "  git checkout -b <new-branch-name>\n",
            "\n",
            "HEAD is now at be376084 version check against PyTorch's CUDA version\n",
            "cp: cannot stat 'references/detection/transformers.py': No such file or directory\n"
          ],
          "name": "stdout"
        },
        {
          "output_type": "execute_result",
          "data": {
            "text/plain": [
              ""
            ]
          },
          "metadata": {
            "tags": []
          },
          "execution_count": 3
        }
      ]
    },
    {
      "cell_type": "code",
      "metadata": {
        "id": "TmODb6m-nPrs"
      },
      "source": [
        ""
      ],
      "execution_count": null,
      "outputs": []
    },
    {
      "cell_type": "markdown",
      "metadata": {
        "id": "LjhUF0N3dqBD"
      },
      "source": [
        "# Dataset"
      ]
    },
    {
      "cell_type": "code",
      "metadata": {
        "id": "cLfizVbQnPu5"
      },
      "source": [
        "# copy google drive files to colab directories\n",
        "!cp -r /content/drive/MyDrive/Data_Science/projects/Fire_Detection_System/data/ .\n",
        "\n",
        "train_dir = '/content/data/train/images/'\n",
        "test_dir  = '/content/data/validation/images/'\n"
      ],
      "execution_count": 4,
      "outputs": []
    },
    {
      "cell_type": "code",
      "metadata": {
        "colab": {
          "base_uri": "https://localhost:8080/",
          "height": 272
        },
        "id": "C-PGH-2olvxh",
        "outputId": "69f4b613-d91c-4b92-952b-b332c7376e0b"
      },
      "source": [
        "#read the .csv box with bounding box details\n",
        "\n",
        "train_df = pd.read_csv('/content/data/train/mvisionai-7-18-2021.csv')\n",
        "print(f'Shape of the train df is {train_df.shape}\\n')\n",
        "num_pic = len(train_df['filename'].unique())\n",
        "print(f'Unique pics are {num_pic}\\n')\n",
        "train_df.head()"
      ],
      "execution_count": 20,
      "outputs": [
        {
          "output_type": "stream",
          "text": [
            "Shape of the train df is (563, 8)\n",
            "\n",
            "Unique pics are 412\n",
            "\n"
          ],
          "name": "stdout"
        },
        {
          "output_type": "execute_result",
          "data": {
            "text/html": [
              "<div>\n",
              "<style scoped>\n",
              "    .dataframe tbody tr th:only-of-type {\n",
              "        vertical-align: middle;\n",
              "    }\n",
              "\n",
              "    .dataframe tbody tr th {\n",
              "        vertical-align: top;\n",
              "    }\n",
              "\n",
              "    .dataframe thead th {\n",
              "        text-align: right;\n",
              "    }\n",
              "</style>\n",
              "<table border=\"1\" class=\"dataframe\">\n",
              "  <thead>\n",
              "    <tr style=\"text-align: right;\">\n",
              "      <th></th>\n",
              "      <th>filename</th>\n",
              "      <th>width</th>\n",
              "      <th>height</th>\n",
              "      <th>class</th>\n",
              "      <th>xmin</th>\n",
              "      <th>ymin</th>\n",
              "      <th>xmax</th>\n",
              "      <th>ymax</th>\n",
              "    </tr>\n",
              "  </thead>\n",
              "  <tbody>\n",
              "    <tr>\n",
              "      <th>0</th>\n",
              "      <td>img (31).jpg</td>\n",
              "      <td>295</td>\n",
              "      <td>171</td>\n",
              "      <td>fire</td>\n",
              "      <td>5</td>\n",
              "      <td>40</td>\n",
              "      <td>81</td>\n",
              "      <td>95</td>\n",
              "    </tr>\n",
              "    <tr>\n",
              "      <th>1</th>\n",
              "      <td>img (32).jpg</td>\n",
              "      <td>undefined</td>\n",
              "      <td>undefined</td>\n",
              "      <td>fire</td>\n",
              "      <td>63</td>\n",
              "      <td>107</td>\n",
              "      <td>150</td>\n",
              "      <td>166</td>\n",
              "    </tr>\n",
              "    <tr>\n",
              "      <th>2</th>\n",
              "      <td>img (33).jpg</td>\n",
              "      <td>undefined</td>\n",
              "      <td>undefined</td>\n",
              "      <td>fire</td>\n",
              "      <td>153</td>\n",
              "      <td>114</td>\n",
              "      <td>218</td>\n",
              "      <td>153</td>\n",
              "    </tr>\n",
              "    <tr>\n",
              "      <th>3</th>\n",
              "      <td>img (34).jpg</td>\n",
              "      <td>undefined</td>\n",
              "      <td>undefined</td>\n",
              "      <td>fire</td>\n",
              "      <td>135</td>\n",
              "      <td>87</td>\n",
              "      <td>197</td>\n",
              "      <td>145</td>\n",
              "    </tr>\n",
              "    <tr>\n",
              "      <th>4</th>\n",
              "      <td>img (35).jpg</td>\n",
              "      <td>undefined</td>\n",
              "      <td>undefined</td>\n",
              "      <td>fire</td>\n",
              "      <td>206</td>\n",
              "      <td>11</td>\n",
              "      <td>288</td>\n",
              "      <td>73</td>\n",
              "    </tr>\n",
              "  </tbody>\n",
              "</table>\n",
              "</div>"
            ],
            "text/plain": [
              "       filename      width     height class  xmin  ymin  xmax  ymax\n",
              "0  img (31).jpg        295        171  fire     5    40    81    95\n",
              "1  img (32).jpg  undefined  undefined  fire    63   107   150   166\n",
              "2  img (33).jpg  undefined  undefined  fire   153   114   218   153\n",
              "3  img (34).jpg  undefined  undefined  fire   135    87   197   145\n",
              "4  img (35).jpg  undefined  undefined  fire   206    11   288    73"
            ]
          },
          "metadata": {
            "tags": []
          },
          "execution_count": 20
        }
      ]
    },
    {
      "cell_type": "code",
      "metadata": {
        "colab": {
          "base_uri": "https://localhost:8080/"
        },
        "id": "A_IdQU7eJ__1",
        "outputId": "15f734ee-fa23-4a94-f7cf-104ca5a192c5"
      },
      "source": [
        "#extracting x1,y1, x2, and y2 from train_df\n",
        "\n"
      ],
      "execution_count": 13,
      "outputs": [
        {
          "output_type": "execute_result",
          "data": {
            "text/plain": [
              "412"
            ]
          },
          "metadata": {
            "tags": []
          },
          "execution_count": 13
        }
      ]
    },
    {
      "cell_type": "code",
      "metadata": {
        "id": "6l2mTclVnPyG",
        "colab": {
          "base_uri": "https://localhost:8080/"
        },
        "outputId": "b5350a3c-c147-4eb2-d748-b21cdd9cea5c"
      },
      "source": [
        "# checking number of files in train and test\n",
        "for path, dir, fils in os.walk(train_dir):\n",
        "    print(f'{path} has {len(os.listdir(path))}')\n",
        "\n",
        "for path, dir, fils in os.walk(test_dir):\n",
        "    print(f'{path} has {len(os.listdir(path))}')\n",
        "# len(os.listdir(test_dir))"
      ],
      "execution_count": 21,
      "outputs": [
        {
          "output_type": "stream",
          "text": [
            "/content/data/train/images/ has 412\n",
            "/content/data/validation/images/ has 90\n"
          ],
          "name": "stdout"
        }
      ]
    },
    {
      "cell_type": "code",
      "metadata": {
        "id": "gKVkceIyHp7r"
      },
      "source": [
        ""
      ],
      "execution_count": 21,
      "outputs": []
    },
    {
      "cell_type": "code",
      "metadata": {
        "id": "_7AyX0ptaHrb",
        "colab": {
          "base_uri": "https://localhost:8080/",
          "height": 211
        },
        "outputId": "2dc41a56-f2ec-4815-ee10-31a0206c4df8"
      },
      "source": [
        "#plot a picture\n",
        "pic_name = 'img (33).jpg'\n",
        "image = cv2.imread(train_dir + pic_name)\n",
        "# window_name = image\n",
        "\n",
        "xmin = train_df[train_df['filename']== pic_name]['xmin'].values\n",
        "ymin = train_df[train_df['filename']== pic_name]['ymin'].values\n",
        "xmax = train_df[train_df['filename']== pic_name]['xmax'].values\n",
        "ymax = train_df[train_df['filename']== pic_name]['ymax'].values\n",
        "\n",
        "from google.colab.patches import cv2_imshow # https://github.com/jupyter/notebook/issues/3935\n",
        "image = cv2.rectangle(image, (xmin,ymin), (xmax, ymax), (0,0,225 ), 2)\n",
        "cv2_imshow(image)\n"
      ],
      "execution_count": 71,
      "outputs": [
        {
          "output_type": "display_data",
          "data": {
            "image/png": "[encoded data removed]",
            "text/plain": [
              "<PIL.Image.Image image mode=RGB size=259x194 at 0x7F62A7DE54D0>"
            ]
          },
          "metadata": {
            "tags": []
          }
        }
      ]
    },
    {
      "cell_type": "code",
      "metadata": {
        "id": "rFjO3IkZWutW"
      },
      "source": [
        "\n"
      ],
      "execution_count": null,
      "outputs": []
    },
    {
      "cell_type": "code",
      "metadata": {
        "id": "pQKwJX-hZgbG"
      },
      "source": [
        ""
      ],
      "execution_count": null,
      "outputs": []
    },
    {
      "cell_type": "code",
      "metadata": {
        "id": "v4k9i4TcZgew"
      },
      "source": [
        ""
      ],
      "execution_count": null,
      "outputs": []
    },
    {
      "cell_type": "code",
      "metadata": {
        "id": "y6zrYflonP8Y"
      },
      "source": [
        ""
      ],
      "execution_count": 56,
      "outputs": []
    },
    {
      "cell_type": "code",
      "metadata": {
        "id": "OLboJIyyWpot"
      },
      "source": [
        ""
      ],
      "execution_count": null,
      "outputs": []
    },
    {
      "cell_type": "markdown",
      "metadata": {
        "id": "W0ceWKHNqpnP"
      },
      "source": [
        "# Pre-trained Model from torchvision\n"
      ]
    },
    {
      "cell_type": "code",
      "metadata": {
        "id": "F13r1O-S_zAJ"
      },
      "source": [
        "#Fine Tuning Pre-Trained Model\n",
        "#load a pre-trained model with resnet50 as backbone\n",
        "model = torchvision.models.detection.fasterrcnn_resnet50_fpn(pretrained=True)\n",
        "\n",
        "# replace the classifier with a new one\n",
        "num_classes = 2 # 1 class(fire) and 0(background)\n",
        "\n",
        "#get number of input features for the classifier\n",
        "in_features = model.roi_heads.box_predictor.cls_score.in_features\n",
        "\n",
        "#replace the pre-trained head wit the new one\n",
        "model.roi_heads.box_predictor = FastRCNNPredictor(in_features, num_classes)\n",
        "\n"
      ],
      "execution_count": null,
      "outputs": []
    },
    {
      "cell_type": "code",
      "metadata": {
        "id": "ESnlp4K1qzRE"
      },
      "source": [
        ""
      ],
      "execution_count": null,
      "outputs": []
    },
    {
      "cell_type": "code",
      "metadata": {
        "id": "fpMGovoYqzUL"
      },
      "source": [
        ""
      ],
      "execution_count": null,
      "outputs": []
    },
    {
      "cell_type": "code",
      "metadata": {
        "id": "7vBlCrMuqzXe"
      },
      "source": [
        ""
      ],
      "execution_count": null,
      "outputs": []
    },
    {
      "cell_type": "code",
      "metadata": {
        "id": "D8MmRR3yqzap"
      },
      "source": [
        ""
      ],
      "execution_count": null,
      "outputs": []
    },
    {
      "cell_type": "code",
      "metadata": {
        "id": "G8M788QAqzeX"
      },
      "source": [
        ""
      ],
      "execution_count": null,
      "outputs": []
    }
  ]
}