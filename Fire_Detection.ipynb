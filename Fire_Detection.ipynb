{
  "nbformat": 4,
  "nbformat_minor": 0,
  "metadata": {
    "colab": {
      "name": "Fire Detection.ipynb",
      "provenance": [],
      "collapsed_sections": [
        "JtmhIcc-_7yT"
      ],
      "machine_shape": "hm",
      "include_colab_link": true
    },
    "interpreter": {
      "hash": "c58f2551bfdf9e42157a429507266a8739121a6215263c5b37cfd970d18b7ca9"
    },
    "kernelspec": {
      "display_name": "Python 3.7.6 64-bit ('base': conda)",
      "name": "python3"
    },
    "language_info": {
      "codemirror_mode": {
        "name": "ipython",
        "version": 3
      },
      "file_extension": ".py",
      "mimetype": "text/x-python",
      "name": "python",
      "nbconvert_exporter": "python",
      "pygments_lexer": "ipython3",
      "version": "3.7.6"
    },
    "accelerator": "GPU"
  },
  "cells": [
    {
      "cell_type": "markdown",
      "metadata": {
        "id": "view-in-github",
        "colab_type": "text"
      },
      "source": [
        "<a href=\"https://colab.research.google.com/github/khanma1962/Fire_Detection_Faster_RCNN/blob/main/Fire_Detection.ipynb\" target=\"_parent\"><img src=\"https://colab.research.google.com/assets/colab-badge.svg\" alt=\"Open In Colab\"/></a>"
      ]
    },
    {
      "cell_type": "markdown",
      "metadata": {
        "id": "JtmhIcc-_7yT"
      },
      "source": [
        "# Fire Detection Using Faster R-CNN"
      ]
    },
    {
      "cell_type": "markdown",
      "metadata": {
        "id": "R85VF42SAGpX"
      },
      "source": [
        "# Paper Referred\n",
        "\n",
        "https://arxiv.org/pdf/1506.01497.pdf\n",
        "\n",
        "### Github Repository\n",
        "https://github.com/pytorch/vision/tree/master/references/detection\n",
        "\n",
        "### Faster R-CNN Tutorial from\n",
        "https://www.telesens.co/2018/03/11/object-detection-and-classification-using-r-cnns/\n",
        "\n",
        "https://pytorch.org/tutorials/intermediate/torchvision_tutorial.html\n",
        "\n",
        "https://www.kaggle.com/moekhan/pytorch-starter-fasterrcnn-train/edit\n",
        "\n",
        "https://blog.francium.tech/object-detection-with-faster-rcnn-bc2e4295bf49\n",
        "\n",
        "https://github.com/pytorch/vision/blob/master/torchvision/models/detection/faster_rcnn.py\n",
        "\n",
        "# Labelling Tools used\n",
        "https://github.com/tzutalin/labelImg\n",
        "\n",
        "# Neural Network Traing Strategy\n",
        "http://karpathy.github.io/2019/04/25/recipe/\n",
        "\n",
        "\n",
        "\n"
      ]
    },
    {
      "cell_type": "code",
      "metadata": {
        "id": "BWcSDr6PPtfA"
      },
      "source": [
        ""
      ],
      "execution_count": null,
      "outputs": []
    },
    {
      "cell_type": "code",
      "metadata": {
        "id": "suRVF18w_t9s",
        "colab": {
          "base_uri": "https://localhost:8080/"
        },
        "outputId": "d4dbab0b-153e-41f9-b76d-2059ef5f4708"
      },
      "source": [
        "from google.colab import drive\n",
        "drive.mount('/content/drive')"
      ],
      "execution_count": 1,
      "outputs": [
        {
          "output_type": "stream",
          "text": [
            "Drive already mounted at /content/drive; to attempt to forcibly remount, call drive.mount(\"/content/drive\", force_remount=True).\n"
          ],
          "name": "stdout"
        }
      ]
    },
    {
      "cell_type": "markdown",
      "metadata": {
        "id": "MjOEgdJZdXFe"
      },
      "source": [
        "# Calling Libraries"
      ]
    },
    {
      "cell_type": "code",
      "metadata": {
        "id": "lxLxuEdmOha1",
        "colab": {
          "base_uri": "https://localhost:8080/"
        },
        "outputId": "fd21d5e0-c71b-49c3-a093-932302ef3e3c"
      },
      "source": [
        "# clone the torchvision libraries\n",
        "%%shell\n",
        "# Download TorchVision repo to use some files from\n",
        "# references/detection\n",
        "git clone https://github.com/pytorch/vision.git\n",
        "cd vision\n",
        "git checkout v0.3.0\n",
        "\n",
        "cp references/detection/utils.py ../\n",
        "cp references/detection/transforms.py ../\n",
        "cp references/detection/coco_eval.py ../\n",
        "cp references/detection/engine.py ../\n",
        "cp references/detection/coco_utils.py ../\n"
      ],
      "execution_count": 2,
      "outputs": [
        {
          "output_type": "stream",
          "text": [
            "fatal: destination path 'vision' already exists and is not an empty directory.\n",
            "HEAD is now at be376084 version check against PyTorch's CUDA version\n"
          ],
          "name": "stdout"
        },
        {
          "output_type": "execute_result",
          "data": {
            "text/plain": [
              ""
            ]
          },
          "metadata": {
            "tags": []
          },
          "execution_count": 2
        }
      ]
    },
    {
      "cell_type": "code",
      "metadata": {
        "id": "PCDVlX2s_yzr",
        "colab": {
          "base_uri": "https://localhost:8080/"
        },
        "outputId": "e2dc3dd6-a421-4f92-9e01-9f91dee8036d"
      },
      "source": [
        "# Calling all the libraries\n",
        "import numpy as np\n",
        "import pandas as pd\n",
        "import torch\n",
        "import torchvision \n",
        "from torchvision.models.detection.faster_rcnn import FasterRCNN, FastRCNNPredictor\n",
        "from torchvision.models.detection.rpn import AnchorGenerator\n",
        "import torchvision.transforms as T\n",
        "from torch.utils.data import DataLoader, Dataset\n",
        "import matplotlib.pyplot as plt\n",
        "import cv2\n",
        "from PIL import Image\n",
        "import os, time, timeit  \n",
        "# from torchvision import engine\n",
        "import engine\n",
        "\n",
        "torch.manual_seed(42)\n"
      ],
      "execution_count": 3,
      "outputs": [
        {
          "output_type": "execute_result",
          "data": {
            "text/plain": [
              "<torch._C.Generator at 0x7f0fe8bcb890>"
            ]
          },
          "metadata": {
            "tags": []
          },
          "execution_count": 3
        }
      ]
    },
    {
      "cell_type": "code",
      "metadata": {
        "id": "FyS0kl3k_ywc",
        "colab": {
          "base_uri": "https://localhost:8080/"
        },
        "outputId": "257f76bd-f04a-4d15-97a1-5bcf70666736"
      },
      "source": [
        "print(torch.__version__)\n",
        "!python --version"
      ],
      "execution_count": 4,
      "outputs": [
        {
          "output_type": "stream",
          "text": [
            "1.9.0+cu102\n",
            "Python 3.7.11\n"
          ],
          "name": "stdout"
        }
      ]
    },
    {
      "cell_type": "code",
      "metadata": {
        "id": "s6eiF-Rn_y2e",
        "colab": {
          "base_uri": "https://localhost:8080/"
        },
        "outputId": "e9109957-530e-4893-c6cb-d3ab1160cdcd"
      },
      "source": [
        "# checking for cuda\n",
        "if (torch.cuda.is_available()):\n",
        "    device = torch.device('cuda')\n",
        "    print(f'device is {device} and device name is {torch.cuda.get_device_name(0)}')\n",
        "else:\n",
        "    device = torch.device('cpu')\n",
        "    print(f'Connected to {str(device).upper()}')\n"
      ],
      "execution_count": 5,
      "outputs": [
        {
          "output_type": "stream",
          "text": [
            "device is cuda and device name is Tesla P100-PCIE-16GB\n"
          ],
          "name": "stdout"
        }
      ]
    },
    {
      "cell_type": "code",
      "metadata": {
        "id": "TmODb6m-nPrs",
        "colab": {
          "base_uri": "https://localhost:8080/"
        },
        "outputId": "90667d53-b626-4f2c-d437-dd530ad08305"
      },
      "source": [
        "!nvidia-smi"
      ],
      "execution_count": 6,
      "outputs": [
        {
          "output_type": "stream",
          "text": [
            "Sun Jul 25 21:30:52 2021       \n",
            "+-----------------------------------------------------------------------------+\n",
            "| NVIDIA-SMI 470.42.01    Driver Version: 460.32.03    CUDA Version: 11.2     |\n",
            "|-------------------------------+----------------------+----------------------+\n",
            "| GPU  Name        Persistence-M| Bus-Id        Disp.A | Volatile Uncorr. ECC |\n",
            "| Fan  Temp  Perf  Pwr:Usage/Cap|         Memory-Usage | GPU-Util  Compute M. |\n",
            "|                               |                      |               MIG M. |\n",
            "|===============================+======================+======================|\n",
            "|   0  Tesla P100-PCIE...  Off  | 00000000:00:04.0 Off |                    0 |\n",
            "| N/A   54C    P0    47W / 250W |      2MiB / 16280MiB |      0%      Default |\n",
            "|                               |                      |                  N/A |\n",
            "+-------------------------------+----------------------+----------------------+\n",
            "                                                                               \n",
            "+-----------------------------------------------------------------------------+\n",
            "| Processes:                                                                  |\n",
            "|  GPU   GI   CI        PID   Type   Process name                  GPU Memory |\n",
            "|        ID   ID                                                   Usage      |\n",
            "|=============================================================================|\n",
            "|  No running processes found                                                 |\n",
            "+-----------------------------------------------------------------------------+\n"
          ],
          "name": "stdout"
        }
      ]
    },
    {
      "cell_type": "code",
      "metadata": {
        "colab": {
          "base_uri": "https://localhost:8080/",
          "height": 235
        },
        "id": "ivEPJy9RH6T2",
        "outputId": "eb506387-e471-48ab-ccd4-be47374526da"
      },
      "source": [
        "torch.cuda.memory_summary(device= None, abbreviated= False)\n"
      ],
      "execution_count": 7,
      "outputs": [
        {
          "output_type": "execute_result",
          "data": {
            "application/vnd.google.colaboratory.intrinsic+json": {
              "type": "string"
            },
            "text/plain": [
              "'|===========================================================================|\\n|                  PyTorch CUDA memory summary, device ID 0                 |\\n|---------------------------------------------------------------------------|\\n|            CUDA OOMs: 0            |        cudaMalloc retries: 0         |\\n|===========================================================================|\\n|        Metric         | Cur Usage  | Peak Usage | Tot Alloc  | Tot Freed  |\\n|---------------------------------------------------------------------------|\\n| Allocated memory      |       0 B  |       0 B  |       0 B  |       0 B  |\\n|       from large pool |       0 B  |       0 B  |       0 B  |       0 B  |\\n|       from small pool |       0 B  |       0 B  |       0 B  |       0 B  |\\n|---------------------------------------------------------------------------|\\n| Active memory         |       0 B  |       0 B  |       0 B  |       0 B  |\\n|       from large pool |       0 B  |       0 B  |       0 B  |       0 B  |\\n|       from small pool |       0 B  |       0 B  |       0 B  |       0 B  |\\n|---------------------------------------------------------------------------|\\n| GPU reserved memory   |       0 B  |       0 B  |       0 B  |       0 B  |\\n|       from large pool |       0 B  |       0 B  |       0 B  |       0 B  |\\n|       from small pool |       0 B  |       0 B  |       0 B  |       0 B  |\\n|---------------------------------------------------------------------------|\\n| Non-releasable memory |       0 B  |       0 B  |       0 B  |       0 B  |\\n|       from large pool |       0 B  |       0 B  |       0 B  |       0 B  |\\n|       from small pool |       0 B  |       0 B  |       0 B  |       0 B  |\\n|---------------------------------------------------------------------------|\\n| Allocations           |       0    |       0    |       0    |       0    |\\n|       from large pool |       0    |       0    |       0    |       0    |\\n|       from small pool |       0    |       0    |       0    |       0    |\\n|---------------------------------------------------------------------------|\\n| Active allocs         |       0    |       0    |       0    |       0    |\\n|       from large pool |       0    |       0    |       0    |       0    |\\n|       from small pool |       0    |       0    |       0    |       0    |\\n|---------------------------------------------------------------------------|\\n| GPU reserved segments |       0    |       0    |       0    |       0    |\\n|       from large pool |       0    |       0    |       0    |       0    |\\n|       from small pool |       0    |       0    |       0    |       0    |\\n|---------------------------------------------------------------------------|\\n| Non-releasable allocs |       0    |       0    |       0    |       0    |\\n|       from large pool |       0    |       0    |       0    |       0    |\\n|       from small pool |       0    |       0    |       0    |       0    |\\n|===========================================================================|\\n'"
            ]
          },
          "metadata": {
            "tags": []
          },
          "execution_count": 7
        }
      ]
    },
    {
      "cell_type": "code",
      "metadata": {
        "id": "9TIOUoWsH65P"
      },
      "source": [
        ""
      ],
      "execution_count": 7,
      "outputs": []
    },
    {
      "cell_type": "markdown",
      "metadata": {
        "id": "LjhUF0N3dqBD"
      },
      "source": [
        "# Dataset"
      ]
    },
    {
      "cell_type": "code",
      "metadata": {
        "id": "cLfizVbQnPu5",
        "colab": {
          "base_uri": "https://localhost:8080/"
        },
        "outputId": "1298d67b-c958-461f-874c-636b3f4fa4ea"
      },
      "source": [
        "# copy google drive files to colab directories\n",
        "\n",
        "start = time.time()\n",
        "!rm -r /content/data/\n",
        "!cp -r /content/drive/MyDrive/Data_Science/projects/Fire_Detection_System/data/ .\n",
        "end = time.time()\n",
        "print(f'\\nTotal time to transfer data is {end-start}  seconds\\n')\n",
        "\n",
        "main_dir = '/content/drive/MyDrive/Data_Science/projects/Fire_Detection_System'\n",
        "train_dir = '/content/data/train/images/'\n",
        "test_dir  = '/content/data/validation/images/'\n",
        "\n",
        "#load csv with bounding details into pandas\n",
        "train_df = pd.read_csv('/content/drive/MyDrive/Data_Science/projects/Fire_Detection_System/data/train/myvisionai_7_24_21_tr.csv')\n",
        "test_df = pd.read_csv('/content/drive/MyDrive/Data_Science/projects/Fire_Detection_System/data/validation/myvisionai_7_24_21_val.csv')\n",
        "\n",
        "print(f\"Unique pics in train are {len(train_df['filename'].unique())}\")\n",
        "print(train_df.info(), '\\n\\n')\n",
        "\n",
        "print(f\"Unique pics in test are {len(test_df['filename'].unique())}\")\n",
        "print(test_df.info())\n"
      ],
      "execution_count": 8,
      "outputs": [
        {
          "output_type": "stream",
          "text": [
            "\n",
            "Total time to transfer data is 1.0282042026519775  seconds\n",
            "\n",
            "Unique pics in train are 412\n",
            "<class 'pandas.core.frame.DataFrame'>\n",
            "RangeIndex: 563 entries, 0 to 562\n",
            "Data columns (total 8 columns):\n",
            " #   Column    Non-Null Count  Dtype \n",
            "---  ------    --------------  ----- \n",
            " 0   filename  563 non-null    object\n",
            " 1   width     563 non-null    object\n",
            " 2   height    563 non-null    object\n",
            " 3   class     563 non-null    object\n",
            " 4   xmin      563 non-null    int64 \n",
            " 5   ymin      563 non-null    int64 \n",
            " 6   xmax      563 non-null    int64 \n",
            " 7   ymax      563 non-null    int64 \n",
            "dtypes: int64(4), object(4)\n",
            "memory usage: 35.3+ KB\n",
            "None \n",
            "\n",
            "\n",
            "Unique pics in test are 90\n",
            "<class 'pandas.core.frame.DataFrame'>\n",
            "RangeIndex: 138 entries, 0 to 137\n",
            "Data columns (total 8 columns):\n",
            " #   Column    Non-Null Count  Dtype \n",
            "---  ------    --------------  ----- \n",
            " 0   filename  138 non-null    object\n",
            " 1   width     138 non-null    object\n",
            " 2   height    138 non-null    object\n",
            " 3   class     138 non-null    object\n",
            " 4   xmin      138 non-null    int64 \n",
            " 5   ymin      138 non-null    int64 \n",
            " 6   xmax      138 non-null    int64 \n",
            " 7   ymax      138 non-null    int64 \n",
            "dtypes: int64(4), object(4)\n",
            "memory usage: 8.8+ KB\n",
            "None\n"
          ],
          "name": "stdout"
        }
      ]
    },
    {
      "cell_type": "code",
      "metadata": {
        "id": "PwIu11REqug0"
      },
      "source": [
        "# change xmin, ymin, xmax, and ymax as float\n",
        "train_df['xmin'] = train_df['xmin'].astype(np.float)\n",
        "train_df['xmax'] = train_df['xmax'].astype(np.float)\n",
        "train_df['ymin'] = train_df['ymin'].astype(np.float)\n",
        "train_df['ymax'] = train_df['ymax'].astype(np.float)\n",
        "\n",
        "test_df['xmin'] = test_df['xmin'].astype(np.float)\n",
        "test_df['xmax'] = test_df['xmax'].astype(np.float)\n",
        "test_df['ymin'] = test_df['ymin'].astype(np.float)\n",
        "test_df['ymax'] = test_df['ymax'].astype(np.float)"
      ],
      "execution_count": 9,
      "outputs": []
    },
    {
      "cell_type": "code",
      "metadata": {
        "id": "6l2mTclVnPyG",
        "colab": {
          "base_uri": "https://localhost:8080/"
        },
        "outputId": "73fed367-d501-4354-a3ff-0c4e643b9459"
      },
      "source": [
        "# checking number of files in train and test\n",
        "for path, dir, fils in os.walk(train_dir):\n",
        "    print(f'{path} has {len(os.listdir(path))}')\n",
        "\n",
        "for path, dir, fils in os.walk(test_dir):\n",
        "    print(f'{path} has {len(os.listdir(path))}')\n"
      ],
      "execution_count": 10,
      "outputs": [
        {
          "output_type": "stream",
          "text": [
            "/content/data/train/images/ has 412\n",
            "/content/data/validation/images/ has 90\n"
          ],
          "name": "stdout"
        }
      ]
    },
    {
      "cell_type": "code",
      "metadata": {
        "id": "_7AyX0ptaHrb",
        "colab": {
          "base_uri": "https://localhost:8080/",
          "height": 206
        },
        "outputId": "68f7ddbc-8b2d-4f88-c060-38b69c820b16"
      },
      "source": [
        "#plot a picture\n",
        "pic_name = 'img (31).jpg'\n",
        "image = cv2.imread(os.path.join(train_dir, pic_name))#train_dir + pic_name)\n",
        "print(f'Image size is {image.shape}')\n",
        "\n",
        "xmin = train_df[train_df['filename']== pic_name]['xmin'].values\n",
        "ymin = train_df[train_df['filename']== pic_name]['ymin'].values\n",
        "xmax = train_df[train_df['filename']== pic_name]['xmax'].values\n",
        "ymax = train_df[train_df['filename']== pic_name]['ymax'].values\n",
        "\n",
        "from google.colab.patches import cv2_imshow # https://github.com/jupyter/notebook/issues/3935\n",
        "image = cv2.rectangle(image, (xmin,ymin), (xmax, ymax), color=(0,0,225 ), thickness=3)\n",
        "cv2_imshow(image)\n"
      ],
      "execution_count": 11,
      "outputs": [
        {
          "output_type": "stream",
          "text": [
            "Image size is (171, 295, 3)\n"
          ],
          "name": "stdout"
        },
        {
          "output_type": "display_data",
          "data": {
            "image/png": "[encoded data removed]",
            "text/plain": [
              "<PIL.Image.Image image mode=RGB size=295x171 at 0x7F0FDC518F10>"
            ]
          },
          "metadata": {
            "tags": []
          }
        }
      ]
    },
    {
      "cell_type": "code",
      "metadata": {
        "id": "uafC-0miRd5m"
      },
      "source": [
        ""
      ],
      "execution_count": 11,
      "outputs": []
    },
    {
      "cell_type": "code",
      "metadata": {
        "id": "i5DojwXk5Mqd"
      },
      "source": [
        ""
      ],
      "execution_count": 11,
      "outputs": []
    },
    {
      "cell_type": "code",
      "metadata": {
        "id": "rFjO3IkZWutW"
      },
      "source": [
        "# Creating FireDataseet class\n",
        "class FireDataset(Dataset):\n",
        "\n",
        "    def __init__(self, dataframe, image_dir, transforms= None):\n",
        "        super().__init__()\n",
        "\n",
        "        self.image_ids = dataframe['filename'].unique()\n",
        "        # print(f'self.image_ids is {self.image_ids.shape}')\n",
        "        self.df = dataframe\n",
        "        self.image_dir = image_dir\n",
        "        # print('new dir is',self.image_dir)\n",
        "        self.transforms = transforms\n",
        "\n",
        "    def __getitem__(self, index: int):\n",
        "        # print(f'index is {index} and image_id is {self.image_ids[index]}')\n",
        "        image = self.image_ids[index]\n",
        "        records = self.df[self.df['filename'] == image]\n",
        "\n",
        "        # read image into cv2 format\n",
        "        \n",
        "        # full_filename = f'{self.image_dir}{image_id}'\n",
        "        # image = Image.open(full_filename).convert('RGB')\n",
        "        \n",
        "        image_arr = cv2.imread(os.path.join(self.image_dir, image), cv2.IMREAD_COLOR)#Image.open\n",
        "        # print(f'image_dir is {os.path.join(self.image_dir, image)}, image shape is {image_arr.shape}, \\n ')\n",
        "        image_arr = cv2.cvtColor(image_arr, cv2.COLOR_BGR2RGB).astype(np.float32)\n",
        "        image_arr /=  255.\n",
        "\n",
        "        # find are based on xmin, ymin, xman, and yman\n",
        "        boxes = records[['xmin', 'ymin', 'xmax', 'ymax']].values\n",
        "        \n",
        "        # print(f'boxes is {boxes}')\n",
        "        \n",
        "        area = (boxes[:, 3] - boxes[:, 1]) * (boxes[:, 2] - boxes[:, 0])\n",
        "        \n",
        "        \n",
        "        # print(f'area is {area}')\n",
        "\n",
        "        # conver boxes and are into tensors\n",
        "        \n",
        "        boxes = torch.as_tensor(boxes, dtype= torch.float32)\n",
        "        \n",
        "        area  = torch.as_tensor(area, dtype=torch.float32)\n",
        "\n",
        "        # there is one class only\n",
        "        iscrowd = torch.zeros((boxes.shape[0], ), dtype=torch.int64)\n",
        "        # print('here')\n",
        "        labels = torch.ones((boxes.shape[0], ), dtype=torch.int64)\n",
        "        \n",
        "\n",
        "        # create a dictionary target\n",
        "        target = {}\n",
        "        target['boxes'] = boxes\n",
        "        target['labels'] = labels\n",
        "        target['image_id'] = torch.tensor(index)#[index])\n",
        "        target['area'] = area\n",
        "        target['iscrowd'] = iscrowd\n",
        "        # print('there')\n",
        "\n",
        "        # # transforms\n",
        "        if self.transforms is not None:\n",
        "            image = self.transforms(image_arr)\n",
        "        #     sample = {'image': image_arr,\n",
        "        #               'bboxes': target['boxes'],\n",
        "        #             #   'labels': labels\n",
        "        #               }\n",
        "        #     sample = self.transforms(**sample)\n",
        "        #     image = sample['image']\n",
        "        \n",
        "        # # zip boxes, map as tensor, create tuple and stack\n",
        "        # target['boxes'] = torch.stack(tuple(map(torch.tesnor, zip(*sample['bboxes'])))).permute(1, 0)\n",
        "\n",
        "        return image, target\n",
        "\n",
        "    def __len__(self) -> int:\n",
        "        return self.image_ids.shape[0]\n",
        "        # return 1 # returns only 10 images - use it for overfitting the model\n",
        "\n"
      ],
      "execution_count": 12,
      "outputs": []
    },
    {
      "cell_type": "code",
      "metadata": {
        "id": "pQKwJX-hZgbG"
      },
      "source": [
        "\n",
        "batch_size = 4\n",
        "img_size = 100\n",
        "mean = [0.485, 0.456, 0.406]\n",
        "std = [0.229, 0.224, 0.225]\n",
        "\n",
        "# collate function\n",
        "# each element of dataset returns tupe(image, target) instead of a single value\n",
        "\n",
        "def collate_function(batch):\n",
        "    return tuple(zip(*batch))\n",
        "\n",
        "def get_transform(train):\n",
        "    transforms = []\n",
        "    # transforms.append(T.Resize(img_size)) # resize to avoid insufficient memory\n",
        "    # transforms.append(T.CenterCrop(img_size))\n",
        "    # conver PIL to Tensor\n",
        "    transforms.append(T.ToTensor())\n",
        "    if train:\n",
        "        # flip images during training \n",
        "        transforms.append(T.RandomHorizontalFlip(0.5))\n",
        "    return T.Compose(transforms)\n",
        "\n",
        "# train and test datasets\n",
        "train_dataset = FireDataset(train_df, train_dir, get_transform(train=True) )\n",
        "test_dataset  = FireDataset(test_df, test_dir, get_transform(train=False) )\n",
        "\n",
        "#train and test dataloader\n",
        "train_data_loader = DataLoader(train_dataset,\n",
        "                               batch_size=batch_size,\n",
        "                               shuffle=True,\n",
        "                               num_workers =2,\n",
        "                               collate_fn = collate_function)\n",
        "\n",
        "test_data_loader = DataLoader(test_dataset,\n",
        "                               batch_size=batch_size,\n",
        "                               shuffle=False,\n",
        "                               num_workers =2,\n",
        "                               collate_fn = collate_function)\n"
      ],
      "execution_count": 13,
      "outputs": []
    },
    {
      "cell_type": "code",
      "metadata": {
        "id": "_qBbejihaB47",
        "colab": {
          "base_uri": "https://localhost:8080/"
        },
        "outputId": "a3e441ec-2c92-4edb-f4a7-a5a9a5684060"
      },
      "source": [
        "for images, targets in train_data_loader:\n",
        "    break\n",
        "print(f\"image_0 is {images[0].shape}\")\n",
        "# print(f'image_1 is {images[1].shape}')\n",
        "print(f'targets_0 are {targets[0]}')\n",
        "# print(f'targets_1 are {targets[1]}\\n\\n')"
      ],
      "execution_count": 14,
      "outputs": [
        {
          "output_type": "stream",
          "text": [
            "image_0 is torch.Size([3, 183, 275])\n",
            "targets_0 are {'boxes': tensor([[111.,  34., 192., 117.]]), 'labels': tensor([1]), 'image_id': tensor(268), 'area': tensor([6723.]), 'iscrowd': tensor([0])}\n"
          ],
          "name": "stdout"
        }
      ]
    },
    {
      "cell_type": "code",
      "metadata": {
        "id": "fjNnQFd-Gf0C"
      },
      "source": [
        ""
      ],
      "execution_count": 14,
      "outputs": []
    },
    {
      "cell_type": "code",
      "metadata": {
        "id": "OLboJIyyWpot"
      },
      "source": [
        "# def image_convert(image):\n",
        "#     image = image.clone().cpu().numpy()\n",
        "#     image = image.transpose((1, 2, 0))\n",
        "#     image = (image * 255).astype(np.uint8)\n",
        "#     return image\n",
        "\n",
        "# def plot_image(data, idx):\n",
        "#     out = data.__getitem__(idx)\n",
        "#     print(f\"image.shape is {out[0].shape}\") #torch.Size([3, 183, 275])\n",
        "#     image = image_convert(out[0])\n",
        "#     image = np.ascontiguousarray(image) # returns ndarray contiguous\n",
        "#     bb = out[1]['boxes'].numpy()\n",
        "#     for i in bb:\n",
        "#         cv2.rectangle(image, (i[0], i[1]), (i[2], i[3]), (225, 0 ,0), thickness=2)\n",
        "    \n",
        "#     plt.figure(figsize=(10,10))\n",
        "#     plt.imshow(image)\n",
        "\n",
        "# plot_image(train_dataset, 9)\n"
      ],
      "execution_count": 15,
      "outputs": []
    },
    {
      "cell_type": "code",
      "metadata": {
        "id": "73-NptjvVSLd"
      },
      "source": [
        ""
      ],
      "execution_count": 15,
      "outputs": []
    },
    {
      "cell_type": "code",
      "metadata": {
        "id": "v4k9i4TcZgew",
        "colab": {
          "base_uri": "https://localhost:8080/",
          "height": 704
        },
        "outputId": "6bb90112-7055-4205-8b60-9727b6eb4d1c"
      },
      "source": [
        "# let's see some images\n",
        "# read first batch from train_data_loader\n",
        "images, targets = next(iter(train_data_loader))\n",
        "\n",
        "#send image to device\n",
        "images = list(image.to(device) for image in images)\n",
        "targets = [{k: v.to(device) for k,v in t.items()} for t in targets]\n",
        "\n",
        "boxes = targets[0]['boxes'].cpu().numpy().astype(np.int32)\n",
        "xmin, ymin, xmax, ymax = boxes[0][0], boxes[0][1],boxes[0][2], boxes[0][3]\n",
        "\n",
        "sample_tr = images[0].permute(1, 2, 0).cpu().numpy() # permute rearrange to 1,2,0 axis\n",
        "\n",
        "print(f\"img has shape of {sample_tr.shape}\")\n",
        "print(f\"boxes is {boxes}\")\n",
        "print(f\"dimension of boxeses  are {xmin}, {ymin}, {xmax}, {ymax}\")\n",
        "\n",
        "\n",
        "fig, ax = plt.subplots(1, 1, figsize=(10,8))\n",
        "\n",
        "# for box in boxes:\n",
        "#     cv2.rectangle(sample_tr,\n",
        "#                  (box[0], box[1]),\n",
        "#                  (box[2], box[3]), \n",
        "#                 # (5, 40), (81, 95),\n",
        "#                   color=(0, 0, 225),\n",
        "#                   thickness=3)\n",
        "\n",
        "for i in range(len(boxes)):\n",
        "    cv2.rectangle(sample_tr, \n",
        "                  (boxes[i][0], boxes[i][1]),\n",
        "                  (boxes[i][2], boxes[i][3]),\n",
        "                  (0, 0 , 225), 3)\n",
        "\n",
        "\n",
        "ax.set_axis_off()\n",
        "# ax.imshow(sample_tr)\n",
        "\n",
        "from google.colab.patches import cv2_imshow # https://github.com/jupyter/notebook/issues/3935\n",
        "# sample_tr = cv2.rectangle(sample_tr, (xmin, ymin), (xmax, ymax), (0,0,225 ), 2)\n",
        "cv2_imshow(sample_tr);\n",
        "\n"
      ],
      "execution_count": 16,
      "outputs": [
        {
          "output_type": "stream",
          "text": [
            "img has shape of (183, 275, 3)\n",
            "boxes is [[ 64  15 190 100]]\n",
            "dimension of boxeses  are 64, 15, 190, 100\n"
          ],
          "name": "stdout"
        },
        {
          "output_type": "display_data",
          "data": {
            "image/png": "[encoded data removed]",
            "text/plain": [
              "<PIL.Image.Image image mode=RGB size=275x183 at 0x7F0FDC7E8510>"
            ]
          },
          "metadata": {
            "tags": []
          }
        },
        {
          "output_type": "display_data",
          "data": {
            "image/png": "[encoded data removed]",
            "text/plain": [
              "<Figure size 720x576 with 1 Axes>"
            ]
          },
          "metadata": {
            "tags": [],
            "needs_background": "light"
          }
        }
      ]
    },
    {
      "cell_type": "code",
      "metadata": {
        "id": "LxXPrtO_4KOY"
      },
      "source": [
        ""
      ],
      "execution_count": 16,
      "outputs": []
    },
    {
      "cell_type": "code",
      "metadata": {
        "id": "_e2rig3Q4KSY"
      },
      "source": [
        ""
      ],
      "execution_count": 16,
      "outputs": []
    },
    {
      "cell_type": "markdown",
      "metadata": {
        "id": "W0ceWKHNqpnP"
      },
      "source": [
        "# Pre-trained Model from torchvision\n"
      ]
    },
    {
      "cell_type": "code",
      "metadata": {
        "id": "F13r1O-S_zAJ"
      },
      "source": [
        "#Fine Tuning Pre-Trained Model\n",
        "#load a pre-trained model with resnet50 as backbone\n",
        "model = torchvision.models.detection.fasterrcnn_resnet50_fpn(pretrained=True)\n",
        "\n",
        "# replace the classifier with a new one\n",
        "num_classes = 2 # 1 class(fire) and 0(background)\n",
        "\n",
        "# get number of input features for the classifier\n",
        "in_features = model.roi_heads.box_predictor.cls_score.in_features\n",
        "\n",
        "# replace the pre-trained head wit the new one\n",
        "model.roi_heads.box_predictor = FastRCNNPredictor(in_features, num_classes)\n",
        "\n"
      ],
      "execution_count": 17,
      "outputs": []
    },
    {
      "cell_type": "code",
      "metadata": {
        "id": "kp5X69LwjWj0"
      },
      "source": [
        ""
      ],
      "execution_count": 17,
      "outputs": []
    },
    {
      "cell_type": "markdown",
      "metadata": {
        "id": "1CSlI1LPjWvV"
      },
      "source": [
        "# Train"
      ]
    },
    {
      "cell_type": "code",
      "metadata": {
        "id": "ESnlp4K1qzRE",
        "colab": {
          "base_uri": "https://localhost:8080/"
        },
        "outputId": "0194cf7d-63fd-4df1-9e9f-191fa8c5f447"
      },
      "source": [
        "# Training parameters\n",
        "num_epochs = 30\n",
        "\n",
        "model.to(device)\n",
        "params = [p for p in model.parameters() if p.requires_grad]\n",
        "optimizer = torch.optim.SGD(params, lr = 0.006, momentum = 0.9, weight_decay= 0.006)\n",
        "lr_scheduler = None\n",
        "start_time = time.time()\n",
        "total_train_loss = []\n",
        "\n",
        "for epoch in range(num_epochs):\n",
        "    star_time = timeit.timeit()\n",
        "    train_loss = []\n",
        "    model.train()\n",
        "\n",
        "    for images, targets in train_data_loader:\n",
        "        \n",
        "        #send images and targets to device\n",
        "        images = list(image.to(device) for image in images)\n",
        "        targets = [{k: v.to(device) for k,v in t.items()} for t in targets]\n",
        "\n",
        "\n",
        "        loss_dict = model(images, targets)\n",
        "        # print(f'loss dict is {loss_dict}')\n",
        "        losses = sum(loss for loss in loss_dict.values())\n",
        "        # print(f'diff losses are {loss_dict.keys()} ')\n",
        "        train_loss.append(losses.item())\n",
        "        # print(f\"train losss is {train_loss}\")\n",
        "\n",
        "        optimizer.zero_grad() # to clear old gradient to zero\n",
        "        losses.backward() # back prop for required_grade = True\n",
        "        optimizer.step() # update parameter based on parameter.grad\n",
        "\n",
        "    epoch_train_loss = np.mean(train_loss)\n",
        "    total_train_loss.append(epoch_train_loss)\n",
        "        \n",
        "        #     print(f'Iterattion #{iter}  loss: {loss_value}')\n",
        "\n",
        "        # itr += 1\n",
        "        # if lr_scheduler is not None:\n",
        "        #     lr_scheduler.step() # for adjusting the learning rate\n",
        "\n",
        "    print(f'Epoch #{epoch+1} loss: {epoch_train_loss}')\n",
        "\n",
        "    # evaluate(model, test_data_loader, device=device )\n",
        "\n",
        "end_time = time.time()\n",
        "print(f\"\\n Total training time is {end_time - start_time} seconds \\n\")\n",
        "# save model    \n",
        "torch.save(model.state_dict(), 'fasterrcnn_resnet50_fpn.pth')\n",
        "\n",
        "\n"
      ],
      "execution_count": 18,
      "outputs": [
        {
          "output_type": "stream",
          "text": [
            "/usr/local/lib/python3.7/dist-packages/torch/nn/functional.py:718: UserWarning: Named tensors and all their associated APIs are an experimental feature and subject to change. Please do not use them for anything important until they are released as stable. (Triggered internally at  /pytorch/c10/core/TensorImpl.h:1156.)\n",
            "  return torch.max_pool2d(input, kernel_size, stride, padding, dilation, ceil_mode)\n"
          ],
          "name": "stderr"
        },
        {
          "output_type": "stream",
          "text": [
            "Epoch #1 loss: 0.2751696805641489\n",
            "Epoch #2 loss: 0.2320419264939225\n",
            "Epoch #3 loss: 0.23292834174285815\n",
            "Epoch #4 loss: 0.23144151921411163\n",
            "Epoch #5 loss: 0.23469902603950316\n",
            "Epoch #6 loss: 0.2234895843469981\n",
            "Epoch #7 loss: 0.22281525443190509\n",
            "Epoch #8 loss: 0.2365692050277608\n",
            "Epoch #9 loss: 0.22884272834629688\n",
            "Epoch #10 loss: 0.22485115480365106\n",
            "Epoch #11 loss: 0.22861217555490512\n",
            "Epoch #12 loss: 0.22608245077353079\n",
            "Epoch #13 loss: 0.2383314554841773\n",
            "Epoch #14 loss: 0.24042065427141282\n",
            "Epoch #15 loss: 0.2434362287370904\n",
            "Epoch #16 loss: 0.2454638603387527\n",
            "Epoch #17 loss: 0.2303431963602316\n",
            "Epoch #18 loss: 0.23888873648874967\n",
            "Epoch #19 loss: 0.24364207677760172\n",
            "Epoch #20 loss: 0.244569362945927\n",
            "Epoch #21 loss: 0.2429549573983961\n",
            "Epoch #22 loss: 0.2478510649169533\n",
            "Epoch #23 loss: 0.2494641814417052\n",
            "Epoch #24 loss: 0.25137319828121407\n",
            "Epoch #25 loss: 0.25472133830913063\n",
            "Epoch #26 loss: 0.24906582935053168\n",
            "Epoch #27 loss: 0.254150083921488\n",
            "Epoch #28 loss: 0.2521007907332726\n",
            "Epoch #29 loss: 0.24664047461690256\n",
            "Epoch #30 loss: 0.26036657147037173\n",
            "\n",
            " Total training time is 2294.625869035721 seconds \n",
            "\n"
          ],
          "name": "stdout"
        }
      ]
    },
    {
      "cell_type": "code",
      "metadata": {
        "id": "PB0A1gm1QzdB"
      },
      "source": [
        "\n"
      ],
      "execution_count": 18,
      "outputs": []
    },
    {
      "cell_type": "code",
      "metadata": {
        "id": "fpMGovoYqzUL",
        "colab": {
          "base_uri": "https://localhost:8080/",
          "height": 295
        },
        "outputId": "b2c06551-93b5-4891-ead5-ad4544b706d7"
      },
      "source": [
        "plt.title('Train Loss')\n",
        "plt.plot(total_train_loss)\n",
        "plt.xlabel('epochs')\n",
        "plt.ylabel('loss')\n",
        "plt.show()"
      ],
      "execution_count": 19,
      "outputs": [
        {
          "output_type": "display_data",
          "data": {
            "image/png": "[encoded data removed]",
            "text/plain": [
              "<Figure size 432x288 with 1 Axes>"
            ]
          },
          "metadata": {
            "tags": [],
            "needs_background": "light"
          }
        }
      ]
    },
    {
      "cell_type": "code",
      "metadata": {
        "id": "7vBlCrMuqzXe"
      },
      "source": [
        ""
      ],
      "execution_count": 19,
      "outputs": []
    },
    {
      "cell_type": "markdown",
      "metadata": {
        "id": "VToo8p52IUTM"
      },
      "source": [
        "# Validation"
      ]
    },
    {
      "cell_type": "code",
      "metadata": {
        "id": "g29zq_uMC-8w"
      },
      "source": [
        ""
      ],
      "execution_count": 19,
      "outputs": []
    },
    {
      "cell_type": "code",
      "metadata": {
        "id": "D8MmRR3yqzap",
        "colab": {
          "base_uri": "https://localhost:8080/",
          "height": 541
        },
        "outputId": "b9d92f34-d7f0-42af-acc8-25d4c8dca986"
      },
      "source": [
        "# Validation of model \n",
        "\n",
        "\n",
        "\n",
        "\n",
        "\n",
        "# load the data loader\n",
        "images, targets  = next(iter(test_data_loader)) # test_data_loader\n",
        "\n",
        "images = list(img.to(device) for img in images)\n",
        "targets = [{k: v.to(device) for k,v in t.items()} for t in targets]\n",
        "\n",
        "boxes = targets[0]['boxes'].cpu().numpy().astype(np.int32)\n",
        "sample_val = images[0].permute(1, 2, 0).cpu().numpy() # permute re-arrange the axes\n",
        "\n",
        "model.eval()\n",
        "cpu_device = torch.device('cpu')\n",
        "\n",
        "outputs = model(images)\n",
        "outputs = [{k: v.to(cpu_device) for k,v in t.items()} for t in outputs]\n",
        "\n",
        "fig, ax = plt.subplots(1, 1, figsize = (16,8))\n",
        "\n",
        "for box in boxes:\n",
        "    cv2.rectangle(sample_val,\n",
        "                  (box[0], box[1]),\n",
        "                  (box[2], box[3]),\n",
        "                  (0, 0, 225),\n",
        "                  3\n",
        "                  )\n",
        "\n",
        "ax.set_axis_off()\n",
        "# plt.imshow(sample_val)\n",
        "\n",
        "from google.colab.patches import cv2_imshow # https://github.com/jupyter/notebook/issues/3935\n",
        "# image = cv2.rectangle(image, (xmin,ymin), (xmax, ymax), (0,0,225 ), 2)\n",
        "cv2_imshow(sample_val);\n"
      ],
      "execution_count": 20,
      "outputs": [
        {
          "output_type": "display_data",
          "data": {
            "image/png": "[encoded data removed]",
            "text/plain": [
              "<PIL.Image.Image image mode=RGB size=300x168 at 0x7F0F905B3290>"
            ]
          },
          "metadata": {
            "tags": []
          }
        },
        {
          "output_type": "display_data",
          "data": {
            "image/png": "[encoded data removed]",
            "text/plain": [
              "<Figure size 1152x576 with 1 Axes>"
            ]
          },
          "metadata": {
            "tags": [],
            "needs_background": "light"
          }
        }
      ]
    },
    {
      "cell_type": "code",
      "metadata": {
        "id": "G8M788QAqzeX"
      },
      "source": [
        ""
      ],
      "execution_count": 20,
      "outputs": []
    }
  ]
}