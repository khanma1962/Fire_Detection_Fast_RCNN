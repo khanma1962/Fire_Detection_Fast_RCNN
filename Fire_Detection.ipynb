{
  "nbformat": 4,
  "nbformat_minor": 0,
  "metadata": {
    "colab": {
      "name": "Fire Detection.ipynb",
      "provenance": [],
      "collapsed_sections": [],
      "include_colab_link": true
    },
    "interpreter": {
      "hash": "c58f2551bfdf9e42157a429507266a8739121a6215263c5b37cfd970d18b7ca9"
    },
    "kernelspec": {
      "display_name": "Python 3.7.6 64-bit ('base': conda)",
      "name": "python3"
    },
    "language_info": {
      "codemirror_mode": {
        "name": "ipython",
        "version": 3
      },
      "file_extension": ".py",
      "mimetype": "text/x-python",
      "name": "python",
      "nbconvert_exporter": "python",
      "pygments_lexer": "ipython3",
      "version": "3.7.6"
    }
  },
  "cells": [
    {
      "cell_type": "markdown",
      "metadata": {
        "id": "view-in-github",
        "colab_type": "text"
      },
      "source": [
        "<a href=\"https://colab.research.google.com/github/khanma1962/Fire_Detection_Faster_RCNN/blob/main/Fire_Detection.ipynb\" target=\"_parent\"><img src=\"https://colab.research.google.com/assets/colab-badge.svg\" alt=\"Open In Colab\"/></a>"
      ]
    },
    {
      "cell_type": "markdown",
      "metadata": {
        "id": "JtmhIcc-_7yT"
      },
      "source": [
        "# Fire Detection Using Faster R-CNN"
      ]
    },
    {
      "cell_type": "markdown",
      "metadata": {
        "id": "R85VF42SAGpX"
      },
      "source": [
        "# Paper Referred\n",
        "\n",
        "https://arxiv.org/pdf/1506.01497.pdf\n",
        "\n",
        "### Github Repository\n",
        "https://github.com/pytorch/vision/tree/master/references/detection\n",
        "\n",
        "### Faster R-CNN Tutorial from\n",
        "https://www.telesens.co/2018/03/11/object-detection-and-classification-using-r-cnns/\n",
        "\n",
        "https://pytorch.org/tutorials/intermediate/torchvision_tutorial.html\n",
        "\n",
        "https://www.kaggle.com/moekhan/pytorch-starter-fasterrcnn-train/edit\n",
        "\n",
        "https://blog.francium.tech/object-detection-with-faster-rcnn-bc2e4295bf49\n"
      ]
    },
    {
      "cell_type": "code",
      "metadata": {
        "id": "FyS0kl3k_ywc"
      },
      "source": [
        ""
      ],
      "execution_count": null,
      "outputs": []
    },
    {
      "cell_type": "code",
      "metadata": {
        "colab": {
          "base_uri": "https://localhost:8080/"
        },
        "id": "suRVF18w_t9s",
        "outputId": "593e2bd9-d651-4e8d-bf44-d647648d8d9e"
      },
      "source": [
        "from google.colab import drive\n",
        "drive.mount('/content/drive')"
      ],
      "execution_count": 1,
      "outputs": [
        {
          "output_type": "stream",
          "text": [
            "Mounted at /content/drive\n"
          ],
          "name": "stdout"
        }
      ]
    },
    {
      "cell_type": "markdown",
      "metadata": {
        "id": "MjOEgdJZdXFe"
      },
      "source": [
        "# Calling Libraries"
      ]
    },
    {
      "cell_type": "code",
      "metadata": {
        "id": "PCDVlX2s_yzr"
      },
      "source": [
        "# Calling all the libraries\n",
        "import numpy as np\n",
        "import pandas as pd\n",
        "import torch\n",
        "import torchvision \n",
        "from torchvision.models.detection.faster_rcnn import FasterRCNN, FastRCNNPredictor\n",
        "from torchvision.models.detection.rpn import AnchorGenerator\n",
        "from torchvision import transforms\n",
        "from torch.utils.data import DataLoader, Dataset\n",
        "import matplotlib.pyplot as plt\n",
        "import cv2\n",
        "from PIL import Image\n",
        "import os\n"
      ],
      "execution_count": 2,
      "outputs": []
    },
    {
      "cell_type": "code",
      "metadata": {
        "id": "s6eiF-Rn_y2e",
        "colab": {
          "base_uri": "https://localhost:8080/"
        },
        "outputId": "b347987f-afac-4829-c031-dfeb3458aa9f"
      },
      "source": [
        "# checking for cuda\n",
        "if (torch.cuda.is_available()):\n",
        "    device = torch.device('cude')\n",
        "    print(f'device is {device} and device name is {torch.cuda.get_device_name(0)}')\n",
        "else:\n",
        "    device = torch.device('cpu')\n",
        "    print(f'Connected to {str(device).upper()}')\n"
      ],
      "execution_count": 3,
      "outputs": [
        {
          "output_type": "stream",
          "text": [
            "Connected to CPU\n"
          ],
          "name": "stdout"
        }
      ]
    },
    {
      "cell_type": "code",
      "metadata": {
        "id": "MYVXUHryh0xa",
        "colab": {
          "base_uri": "https://localhost:8080/"
        },
        "outputId": "7cf08b3d-bb07-4d6c-d5e9-9513a91b97f4"
      },
      "source": [
        "%%shell\n",
        "\n",
        "# Torchvision repo to use some utilities\n",
        "\n",
        "# git clone https://github.com/pytorch/vision.git\n",
        "# cd vision\n",
        "# git checkout v0.3.0\n",
        "\n",
        "# # copy some files to Google colab\n",
        "# cp references/detection/utils.py ../\n",
        "# cp references/detection/transformers.py ../\n",
        "# cp references/detection/engine.py ../\n"
      ],
      "execution_count": 4,
      "outputs": [
        {
          "output_type": "execute_result",
          "data": {
            "text/plain": [
              ""
            ]
          },
          "metadata": {
            "tags": []
          },
          "execution_count": 4
        }
      ]
    },
    {
      "cell_type": "code",
      "metadata": {
        "id": "TmODb6m-nPrs"
      },
      "source": [
        ""
      ],
      "execution_count": null,
      "outputs": []
    },
    {
      "cell_type": "markdown",
      "metadata": {
        "id": "LjhUF0N3dqBD"
      },
      "source": [
        "# Dataset"
      ]
    },
    {
      "cell_type": "code",
      "metadata": {
        "id": "cLfizVbQnPu5"
      },
      "source": [
        "# copy google drive files to colab directories\n",
        "!cp -r /content/drive/MyDrive/Data_Science/projects/Fire_Detection_System/data/ .\n",
        "\n",
        "train_dir = '/content/data/train/images/'\n",
        "test_dir  = '/content/data/validation/images/'\n"
      ],
      "execution_count": 5,
      "outputs": []
    },
    {
      "cell_type": "code",
      "metadata": {
        "colab": {
          "base_uri": "https://localhost:8080/",
          "height": 272
        },
        "id": "C-PGH-2olvxh",
        "outputId": "fc069b08-3245-488e-d2bf-9401020797f1"
      },
      "source": [
        "#read the .csv box with bounding box details\n",
        "\n",
        "train_df = pd.read_csv('/content/data/train/myvisionai-7-18-2021.csv')\n",
        "test_df  = pd.read_csv('/content/data/validation/myvisionai-7-18-2021.csv')\n",
        "print(f'Shape of the train df is {train_df.shape} and test df {test_df.shape}\\n')\n",
        "num_pic = len(train_df['filename'].unique())\n",
        "print(f'Unique pics are {num_pic}\\n')\n",
        "train_df.head()"
      ],
      "execution_count": 6,
      "outputs": [
        {
          "output_type": "stream",
          "text": [
            "Shape of the train df is (563, 8) and test df (138, 8)\n",
            "\n",
            "Unique pics are 412\n",
            "\n"
          ],
          "name": "stdout"
        },
        {
          "output_type": "execute_result",
          "data": {
            "text/html": [
              "<div>\n",
              "<style scoped>\n",
              "    .dataframe tbody tr th:only-of-type {\n",
              "        vertical-align: middle;\n",
              "    }\n",
              "\n",
              "    .dataframe tbody tr th {\n",
              "        vertical-align: top;\n",
              "    }\n",
              "\n",
              "    .dataframe thead th {\n",
              "        text-align: right;\n",
              "    }\n",
              "</style>\n",
              "<table border=\"1\" class=\"dataframe\">\n",
              "  <thead>\n",
              "    <tr style=\"text-align: right;\">\n",
              "      <th></th>\n",
              "      <th>filename</th>\n",
              "      <th>width</th>\n",
              "      <th>height</th>\n",
              "      <th>class</th>\n",
              "      <th>xmin</th>\n",
              "      <th>ymin</th>\n",
              "      <th>xmax</th>\n",
              "      <th>ymax</th>\n",
              "    </tr>\n",
              "  </thead>\n",
              "  <tbody>\n",
              "    <tr>\n",
              "      <th>0</th>\n",
              "      <td>img (31).jpg</td>\n",
              "      <td>295</td>\n",
              "      <td>171</td>\n",
              "      <td>fire</td>\n",
              "      <td>5</td>\n",
              "      <td>40</td>\n",
              "      <td>81</td>\n",
              "      <td>95</td>\n",
              "    </tr>\n",
              "    <tr>\n",
              "      <th>1</th>\n",
              "      <td>img (32).jpg</td>\n",
              "      <td>undefined</td>\n",
              "      <td>undefined</td>\n",
              "      <td>fire</td>\n",
              "      <td>63</td>\n",
              "      <td>107</td>\n",
              "      <td>150</td>\n",
              "      <td>166</td>\n",
              "    </tr>\n",
              "    <tr>\n",
              "      <th>2</th>\n",
              "      <td>img (33).jpg</td>\n",
              "      <td>undefined</td>\n",
              "      <td>undefined</td>\n",
              "      <td>fire</td>\n",
              "      <td>153</td>\n",
              "      <td>114</td>\n",
              "      <td>218</td>\n",
              "      <td>153</td>\n",
              "    </tr>\n",
              "    <tr>\n",
              "      <th>3</th>\n",
              "      <td>img (34).jpg</td>\n",
              "      <td>undefined</td>\n",
              "      <td>undefined</td>\n",
              "      <td>fire</td>\n",
              "      <td>135</td>\n",
              "      <td>87</td>\n",
              "      <td>197</td>\n",
              "      <td>145</td>\n",
              "    </tr>\n",
              "    <tr>\n",
              "      <th>4</th>\n",
              "      <td>img (35).jpg</td>\n",
              "      <td>undefined</td>\n",
              "      <td>undefined</td>\n",
              "      <td>fire</td>\n",
              "      <td>206</td>\n",
              "      <td>11</td>\n",
              "      <td>288</td>\n",
              "      <td>73</td>\n",
              "    </tr>\n",
              "  </tbody>\n",
              "</table>\n",
              "</div>"
            ],
            "text/plain": [
              "       filename      width     height class  xmin  ymin  xmax  ymax\n",
              "0  img (31).jpg        295        171  fire     5    40    81    95\n",
              "1  img (32).jpg  undefined  undefined  fire    63   107   150   166\n",
              "2  img (33).jpg  undefined  undefined  fire   153   114   218   153\n",
              "3  img (34).jpg  undefined  undefined  fire   135    87   197   145\n",
              "4  img (35).jpg  undefined  undefined  fire   206    11   288    73"
            ]
          },
          "metadata": {
            "tags": []
          },
          "execution_count": 6
        }
      ]
    },
    {
      "cell_type": "code",
      "metadata": {
        "id": "K1wcthEg0Aef"
      },
      "source": [
        "# train_df['filename'] = train_df['filename'].replace({'img (31).jpg': 'fire_0.jpg'})\n",
        "# train_df"
      ],
      "execution_count": 7,
      "outputs": []
    },
    {
      "cell_type": "code",
      "metadata": {
        "id": "6l2mTclVnPyG",
        "colab": {
          "base_uri": "https://localhost:8080/"
        },
        "outputId": "e0f4802f-28ce-44f1-f7c3-5dedace55b22"
      },
      "source": [
        "# checking number of files in train and test\n",
        "for path, dir, fils in os.walk(train_dir):\n",
        "    print(f'{path} has {len(os.listdir(path))}')\n",
        "\n",
        "for path, dir, fils in os.walk(test_dir):\n",
        "    print(f'{path} has {len(os.listdir(path))}')\n",
        "# len(os.listdir(test_dir))"
      ],
      "execution_count": 8,
      "outputs": [
        {
          "output_type": "stream",
          "text": [
            "/content/data/train/images/ has 412\n",
            "/content/data/validation/images/ has 90\n"
          ],
          "name": "stdout"
        }
      ]
    },
    {
      "cell_type": "code",
      "metadata": {
        "id": "gKVkceIyHp7r"
      },
      "source": [
        "#renaming the files with fire_xxx.jpg format\n",
        "\n",
        "def rename_file(curr_dir, df):\n",
        "    \n",
        "    for count, filename in enumerate(os.listdir(curr_dir)):\n",
        "               \n",
        "        #replace filename with new name\n",
        "        new_filename = 'fire_' + str(count) + '.jpg'\n",
        "        # print(f'count:{count}, filename: {filename} and new_filename: {new_filename}' )\n",
        "        df['filename'] = df['filename'].replace({filename: new_filename})\n",
        "\n",
        "        dest = curr_dir  + new_filename\n",
        "        src  = curr_dir  + filename\n",
        "        # print(f'src is {src} and dest is {dest}')\n",
        "        os.rename(src,dest)\n",
        "    # df.to_csv(curr_dir + df)\n",
        "    return df \n",
        "\n",
        "# train_df = rename_file(train_dir, train_df)\n",
        "# test_df  = rename_file(test_dir, test_df)\n",
        "# train_df.to_csv('/content/data/datatrain_df.csv')\n",
        "# test_df.to_csv( '/content/data/datatest_df.csv')\n",
        "# print(f'{test_dir} has {len(os.listdir(test_dir))}')"
      ],
      "execution_count": 9,
      "outputs": []
    },
    {
      "cell_type": "code",
      "metadata": {
        "colab": {
          "base_uri": "https://localhost:8080/",
          "height": 419
        },
        "id": "HEx9Wyzke6jI",
        "outputId": "f984189a-4153-4752-ac6a-e82c6b07305b"
      },
      "source": [
        "train_df"
      ],
      "execution_count": 10,
      "outputs": [
        {
          "output_type": "execute_result",
          "data": {
            "text/html": [
              "<div>\n",
              "<style scoped>\n",
              "    .dataframe tbody tr th:only-of-type {\n",
              "        vertical-align: middle;\n",
              "    }\n",
              "\n",
              "    .dataframe tbody tr th {\n",
              "        vertical-align: top;\n",
              "    }\n",
              "\n",
              "    .dataframe thead th {\n",
              "        text-align: right;\n",
              "    }\n",
              "</style>\n",
              "<table border=\"1\" class=\"dataframe\">\n",
              "  <thead>\n",
              "    <tr style=\"text-align: right;\">\n",
              "      <th></th>\n",
              "      <th>filename</th>\n",
              "      <th>width</th>\n",
              "      <th>height</th>\n",
              "      <th>class</th>\n",
              "      <th>xmin</th>\n",
              "      <th>ymin</th>\n",
              "      <th>xmax</th>\n",
              "      <th>ymax</th>\n",
              "    </tr>\n",
              "  </thead>\n",
              "  <tbody>\n",
              "    <tr>\n",
              "      <th>0</th>\n",
              "      <td>fire_291.jpg</td>\n",
              "      <td>295</td>\n",
              "      <td>171</td>\n",
              "      <td>fire</td>\n",
              "      <td>5</td>\n",
              "      <td>40</td>\n",
              "      <td>81</td>\n",
              "      <td>95</td>\n",
              "    </tr>\n",
              "    <tr>\n",
              "      <th>1</th>\n",
              "      <td>fire_42.jpg</td>\n",
              "      <td>undefined</td>\n",
              "      <td>undefined</td>\n",
              "      <td>fire</td>\n",
              "      <td>63</td>\n",
              "      <td>107</td>\n",
              "      <td>150</td>\n",
              "      <td>166</td>\n",
              "    </tr>\n",
              "    <tr>\n",
              "      <th>2</th>\n",
              "      <td>fire_327.jpg</td>\n",
              "      <td>undefined</td>\n",
              "      <td>undefined</td>\n",
              "      <td>fire</td>\n",
              "      <td>153</td>\n",
              "      <td>114</td>\n",
              "      <td>218</td>\n",
              "      <td>153</td>\n",
              "    </tr>\n",
              "    <tr>\n",
              "      <th>3</th>\n",
              "      <td>fire_190.jpg</td>\n",
              "      <td>undefined</td>\n",
              "      <td>undefined</td>\n",
              "      <td>fire</td>\n",
              "      <td>135</td>\n",
              "      <td>87</td>\n",
              "      <td>197</td>\n",
              "      <td>145</td>\n",
              "    </tr>\n",
              "    <tr>\n",
              "      <th>4</th>\n",
              "      <td>fire_219.jpg</td>\n",
              "      <td>undefined</td>\n",
              "      <td>undefined</td>\n",
              "      <td>fire</td>\n",
              "      <td>206</td>\n",
              "      <td>11</td>\n",
              "      <td>288</td>\n",
              "      <td>73</td>\n",
              "    </tr>\n",
              "    <tr>\n",
              "      <th>...</th>\n",
              "      <td>...</td>\n",
              "      <td>...</td>\n",
              "      <td>...</td>\n",
              "      <td>...</td>\n",
              "      <td>...</td>\n",
              "      <td>...</td>\n",
              "      <td>...</td>\n",
              "      <td>...</td>\n",
              "    </tr>\n",
              "    <tr>\n",
              "      <th>558</th>\n",
              "      <td>fire_316.jpg</td>\n",
              "      <td>undefined</td>\n",
              "      <td>undefined</td>\n",
              "      <td>fire</td>\n",
              "      <td>169</td>\n",
              "      <td>85</td>\n",
              "      <td>179</td>\n",
              "      <td>95</td>\n",
              "    </tr>\n",
              "    <tr>\n",
              "      <th>559</th>\n",
              "      <td>fire_87.jpg</td>\n",
              "      <td>undefined</td>\n",
              "      <td>undefined</td>\n",
              "      <td>fire</td>\n",
              "      <td>151</td>\n",
              "      <td>100</td>\n",
              "      <td>166</td>\n",
              "      <td>115</td>\n",
              "    </tr>\n",
              "    <tr>\n",
              "      <th>560</th>\n",
              "      <td>fire_364.jpg</td>\n",
              "      <td>undefined</td>\n",
              "      <td>undefined</td>\n",
              "      <td>fire</td>\n",
              "      <td>177</td>\n",
              "      <td>82</td>\n",
              "      <td>193</td>\n",
              "      <td>112</td>\n",
              "    </tr>\n",
              "    <tr>\n",
              "      <th>561</th>\n",
              "      <td>fire_30.jpg</td>\n",
              "      <td>undefined</td>\n",
              "      <td>undefined</td>\n",
              "      <td>fire</td>\n",
              "      <td>90</td>\n",
              "      <td>66</td>\n",
              "      <td>112</td>\n",
              "      <td>101</td>\n",
              "    </tr>\n",
              "    <tr>\n",
              "      <th>562</th>\n",
              "      <td>fire_350.jpg</td>\n",
              "      <td>undefined</td>\n",
              "      <td>undefined</td>\n",
              "      <td>fire</td>\n",
              "      <td>76</td>\n",
              "      <td>21</td>\n",
              "      <td>104</td>\n",
              "      <td>67</td>\n",
              "    </tr>\n",
              "  </tbody>\n",
              "</table>\n",
              "<p>563 rows × 8 columns</p>\n",
              "</div>"
            ],
            "text/plain": [
              "         filename      width     height class  xmin  ymin  xmax  ymax\n",
              "0    fire_291.jpg        295        171  fire     5    40    81    95\n",
              "1     fire_42.jpg  undefined  undefined  fire    63   107   150   166\n",
              "2    fire_327.jpg  undefined  undefined  fire   153   114   218   153\n",
              "3    fire_190.jpg  undefined  undefined  fire   135    87   197   145\n",
              "4    fire_219.jpg  undefined  undefined  fire   206    11   288    73\n",
              "..            ...        ...        ...   ...   ...   ...   ...   ...\n",
              "558  fire_316.jpg  undefined  undefined  fire   169    85   179    95\n",
              "559   fire_87.jpg  undefined  undefined  fire   151   100   166   115\n",
              "560  fire_364.jpg  undefined  undefined  fire   177    82   193   112\n",
              "561   fire_30.jpg  undefined  undefined  fire    90    66   112   101\n",
              "562  fire_350.jpg  undefined  undefined  fire    76    21   104    67\n",
              "\n",
              "[563 rows x 8 columns]"
            ]
          },
          "metadata": {
            "tags": []
          },
          "execution_count": 10
        }
      ]
    },
    {
      "cell_type": "code",
      "metadata": {
        "colab": {
          "base_uri": "https://localhost:8080/"
        },
        "id": "9MyuSa9lpfad",
        "outputId": "98eec40f-6c74-483f-d4ba-3a2c1dbbd459"
      },
      "source": [
        "# checking number of files in train and test\n",
        "for path, dir, fils in os.walk(train_dir):\n",
        "    print(f'{path} has {len(os.listdir(path))}')\n",
        "\n",
        "for path, dir, fils in os.walk(test_dir):\n",
        "    print(f'{path} has {len(os.listdir(path))}')\n",
        "# len(os.listdir(test_dir))"
      ],
      "execution_count": 11,
      "outputs": [
        {
          "output_type": "stream",
          "text": [
            "/content/data/train/images/ has 412\n",
            "/content/data/validation/images/ has 90\n"
          ],
          "name": "stdout"
        }
      ]
    },
    {
      "cell_type": "code",
      "metadata": {
        "id": "_7AyX0ptaHrb",
        "colab": {
          "base_uri": "https://localhost:8080/",
          "height": 217
        },
        "outputId": "656e071c-da5d-4eb0-e014-af345b98027e"
      },
      "source": [
        "#plot a picture\n",
        "pic_name = 'fire_0.jpg'\n",
        "image = cv2.imread(train_dir + pic_name)\n",
        "print(f'Image size is {image.shape}')\n",
        "\n",
        "xmin = train_df[train_df['filename']== pic_name]['xmin'].values\n",
        "ymin = train_df[train_df['filename']== pic_name]['ymin'].values\n",
        "xmax = train_df[train_df['filename']== pic_name]['xmax'].values\n",
        "ymax = train_df[train_df['filename']== pic_name]['ymax'].values\n",
        "\n",
        "from google.colab.patches import cv2_imshow # https://github.com/jupyter/notebook/issues/3935\n",
        "image = cv2.rectangle(image, (xmin,ymin), (xmax, ymax), (0,0,225 ), 2)\n",
        "cv2_imshow(image)\n"
      ],
      "execution_count": 12,
      "outputs": [
        {
          "output_type": "stream",
          "text": [
            "Image size is (183, 275, 3)\n"
          ],
          "name": "stdout"
        },
        {
          "output_type": "display_data",
          "data": {
            "image/png": "[encoded data removed]",
            "text/plain": [
              "<PIL.Image.Image image mode=RGB size=275x183 at 0x7F3D24AFF5D0>"
            ]
          },
          "metadata": {
            "tags": []
          }
        }
      ]
    },
    {
      "cell_type": "code",
      "metadata": {
        "id": "i5DojwXk5Mqd"
      },
      "source": [
        "# convert x1,y1,x2,y2 to x,y,w,h format\n"
      ],
      "execution_count": null,
      "outputs": []
    },
    {
      "cell_type": "code",
      "metadata": {
        "id": "rFjO3IkZWutW"
      },
      "source": [
        "# Creating FireDataseet class\n",
        "class FireDataset(Dataset):\n",
        "\n",
        "    def __init__(self, dataframe, image_dir, transforms= None):\n",
        "        super().__init__()\n",
        "\n",
        "        self.image_ids = dataframe['filename'].unique()\n",
        "        # print(self.image_ids.shape)\n",
        "        self.df = dataframe\n",
        "        self.image_dir = image_dir\n",
        "        self.transforms = transforms\n",
        "\n",
        "    def __getitem__(self, index: int):\n",
        "\n",
        "        image_id = self.image_ids[index]\n",
        "        records = self.df[self.df['filename'] == image_id]\n",
        "\n",
        "        # read image into cv2 format\n",
        "        \n",
        "        image = cv2.imread(f'{self.image_dir}/{image_id}.jpg', cv2.IMREAD_COLOR)\n",
        "        print(f'image_dir is {self.image_dir}, image_id is {image_id}, image_shape is  ')\n",
        "        image = cv2.cvtColor(image, cv2.COLOR_BGR2RGB).astype(np.float)\n",
        "        image = image / 255.\n",
        "\n",
        "        # find are based on xmin, ymin, xman, and yman\n",
        "        boxes = records[['xmin', 'ymin', 'xmax', 'ymax']].values\n",
        "        area = (boxes[:, 3] - boxes[: 1]) * (boxes[:, 4] - boxes[:, 2])\n",
        "\n",
        "        # conver boxes and are into tensors\n",
        "        boxes = torch.as_tensor(boxes, dtype= torch.float)\n",
        "        area  = torch.as_tensor(area, dtyp=torch.int64)\n",
        "\n",
        "        # there is one class only\n",
        "        iscrowd = torch.zero((boxes.shape[0], ), dtype=int64)\n",
        "        labels = torch.ones((boxes.shape[0], ), dtype=torch.int64)\n",
        "\n",
        "        # create a dictionary target\n",
        "        target = {}\n",
        "        target['boxes'] = boxes\n",
        "        target['labels'] = labels\n",
        "        target['image_id'] = torch.tensor([index])\n",
        "        target['area'] = area\n",
        "        target['iscrowd'] = iscrowd\n",
        "\n",
        "        # transforms\n",
        "        if self.transforms:\n",
        "            image = torchvision.transforms.ToTensor(image)\n",
        "\n",
        "        return image, target\n",
        "\n",
        "    def __len__(self) -> int:\n",
        "        return self.image_ids.shape[0]\n",
        "\n"
      ],
      "execution_count": 13,
      "outputs": []
    },
    {
      "cell_type": "code",
      "metadata": {
        "id": "pQKwJX-hZgbG"
      },
      "source": [
        "# collate function\n",
        "# each element of dataset returns tupe(image, target) instead of a single value\n",
        "def collate_function(batch):\n",
        "    return tuple(zip(*batch))\n",
        "\n",
        "img_size = 224\n",
        "mean = [0.485, 0.456, 0.406]\n",
        "std = [0.229, 0.224, 0.225]\n",
        "# https://discuss.pytorch.org/t/normalization-in-the-mnist-example/457/22\n",
        "train_transform = transforms.Compose([\n",
        "                            transforms.RandomRotation(degrees=(10,10)), # rotate + / - 10 degree\n",
        "                            transforms.RandomRotation(degrees=(90,90)), \n",
        "                            transforms.RandomRotation(degrees=(270,270)), \n",
        "                            transforms.RandomHorizontalFlip(), # reverse 50% of images\n",
        "                            transforms.RandomVerticalFlip(p=1),\n",
        "                            transforms.ColorJitter(),\n",
        "                            \n",
        "                            transforms.Resize(img_size),\n",
        "                            transforms.CenterCrop(img_size),\n",
        "                            transforms.ToTensor(),\n",
        "                            transforms.Normalize(mean,std)  \n",
        "                                      ])\n",
        "\n",
        "test_transform = transforms.Compose([\n",
        "                          \n",
        "                            transforms.Resize(img_size),\n",
        "                            transforms.CenterCrop(img_size),\n",
        "                            transforms.ToTensor(),\n",
        "                            transforms.Normalize(mean,std)   \n",
        "                                      ])\n",
        "\n",
        "\n",
        "\n",
        "# train and test datasets\n",
        "train_dataset = FireDataset(train_df, train_dir, train_transform )\n",
        "test_dataset  = FireDataset(test_df, test_dir, test_transform)\n",
        "\n",
        "#train and test dataloader\n",
        "train_data_loader = DataLoader(train_dataset,\n",
        "                               batch_size=16,\n",
        "                               shuffle=False,\n",
        "                               num_workers =2,\n",
        "                               collate_fn = collate_function)\n",
        "\n",
        "test_data_loader = DataLoader(test_dataset,\n",
        "                               batch_size=2,\n",
        "                               shuffle=False,\n",
        "                               num_workers =2,\n",
        "                               collate_fn = collate_function)\n",
        "\n"
      ],
      "execution_count": 14,
      "outputs": []
    },
    {
      "cell_type": "code",
      "metadata": {
        "colab": {
          "base_uri": "https://localhost:8080/"
        },
        "id": "KMCANbbuXlYW",
        "outputId": "77dd8a63-b5a2-48d4-d943-4fd27b11fdbd"
      },
      "source": [
        "train_dataset"
      ],
      "execution_count": 15,
      "outputs": [
        {
          "output_type": "execute_result",
          "data": {
            "text/plain": [
              "<__main__.FireDataset at 0x7f3d233d9b10>"
            ]
          },
          "metadata": {
            "tags": []
          },
          "execution_count": 15
        }
      ]
    },
    {
      "cell_type": "code",
      "metadata": {
        "id": "_qBbejihaB47"
      },
      "source": [
        ""
      ],
      "execution_count": 15,
      "outputs": []
    },
    {
      "cell_type": "code",
      "metadata": {
        "id": "v4k9i4TcZgew",
        "colab": {
          "base_uri": "https://localhost:8080/",
          "height": 646
        },
        "outputId": "a331e19b-68ef-4a41-b4f6-b4252d4b89f4"
      },
      "source": [
        "# let's see some images\n",
        "# read first batch from train_data_loader\n",
        "images, targets = next(iter(train_data_loader))\n",
        "\n",
        "#send image to device\n",
        "images = list(image.to(device) for image in images)\n",
        "targets = [{k: v.to(device) for k,v in t.items()} for t in targets]\n",
        "\n",
        "boxes = targets[0]['boxes'].cpu().numpy().astype(np.int32)\n",
        "img = images[0].permute(1, 2, 0).cpu().numpy() # permute rearrange to 1,2,0 axis\n",
        "\n",
        "for box in boxes:\n",
        "    cv2.rectangle(img,\n",
        "                 (box[0], box[1]),\n",
        "                 (box[2], box[3]),\n",
        "                 (0, 0, 225),\n",
        "                  3)\n",
        "ax.set_axis_off()\n",
        "ax.imshow(img)\n"
      ],
      "execution_count": 16,
      "outputs": [
        {
          "output_type": "stream",
          "text": [
            "image_dir is /content/data/train/images/, image_id is fire_291.jpg, image_shape is  \n",
            "image_dir is /content/data/train/images/, image_id is fire_58.jpg, image_shape is  \n",
            "image_dir is /content/data/train/images/, image_id is fire_218.jpg, image_shape is  \n",
            "image_dir is /content/data/train/images/, image_id is fire_411.jpg, image_shape is  \n",
            "image_dir is /content/data/train/images/, image_id is fire_20.jpg, image_shape is  \n"
          ],
          "name": "stdout"
        },
        {
          "output_type": "error",
          "ename": "error",
          "evalue": "ignored",
          "traceback": [
            "\u001b[0;31m---------------------------------------------------------------------------\u001b[0m",
            "\u001b[0;31merror\u001b[0m                                     Traceback (most recent call last)",
            "\u001b[0;32m<ipython-input-16-95c43a11cc26>\u001b[0m in \u001b[0;36m<module>\u001b[0;34m()\u001b[0m\n\u001b[1;32m      1\u001b[0m \u001b[0;31m# let's see some images\u001b[0m\u001b[0;34m\u001b[0m\u001b[0;34m\u001b[0m\u001b[0;34m\u001b[0m\u001b[0m\n\u001b[1;32m      2\u001b[0m \u001b[0;31m# read first batch from train_data_loader\u001b[0m\u001b[0;34m\u001b[0m\u001b[0;34m\u001b[0m\u001b[0;34m\u001b[0m\u001b[0m\n\u001b[0;32m----> 3\u001b[0;31m \u001b[0mimages\u001b[0m\u001b[0;34m,\u001b[0m \u001b[0mtargets\u001b[0m \u001b[0;34m=\u001b[0m \u001b[0mnext\u001b[0m\u001b[0;34m(\u001b[0m\u001b[0miter\u001b[0m\u001b[0;34m(\u001b[0m\u001b[0mtrain_data_loader\u001b[0m\u001b[0;34m)\u001b[0m\u001b[0;34m)\u001b[0m\u001b[0;34m\u001b[0m\u001b[0;34m\u001b[0m\u001b[0m\n\u001b[0m\u001b[1;32m      4\u001b[0m \u001b[0;34m\u001b[0m\u001b[0m\n\u001b[1;32m      5\u001b[0m \u001b[0;31m#send image to device\u001b[0m\u001b[0;34m\u001b[0m\u001b[0;34m\u001b[0m\u001b[0;34m\u001b[0m\u001b[0m\n",
            "\u001b[0;32m/usr/local/lib/python3.7/dist-packages/torch/utils/data/dataloader.py\u001b[0m in \u001b[0;36m__next__\u001b[0;34m(self)\u001b[0m\n\u001b[1;32m    519\u001b[0m             \u001b[0;32mif\u001b[0m \u001b[0mself\u001b[0m\u001b[0;34m.\u001b[0m\u001b[0m_sampler_iter\u001b[0m \u001b[0;32mis\u001b[0m \u001b[0;32mNone\u001b[0m\u001b[0;34m:\u001b[0m\u001b[0;34m\u001b[0m\u001b[0;34m\u001b[0m\u001b[0m\n\u001b[1;32m    520\u001b[0m                 \u001b[0mself\u001b[0m\u001b[0;34m.\u001b[0m\u001b[0m_reset\u001b[0m\u001b[0;34m(\u001b[0m\u001b[0;34m)\u001b[0m\u001b[0;34m\u001b[0m\u001b[0;34m\u001b[0m\u001b[0m\n\u001b[0;32m--> 521\u001b[0;31m             \u001b[0mdata\u001b[0m \u001b[0;34m=\u001b[0m \u001b[0mself\u001b[0m\u001b[0;34m.\u001b[0m\u001b[0m_next_data\u001b[0m\u001b[0;34m(\u001b[0m\u001b[0;34m)\u001b[0m\u001b[0;34m\u001b[0m\u001b[0;34m\u001b[0m\u001b[0m\n\u001b[0m\u001b[1;32m    522\u001b[0m             \u001b[0mself\u001b[0m\u001b[0;34m.\u001b[0m\u001b[0m_num_yielded\u001b[0m \u001b[0;34m+=\u001b[0m \u001b[0;36m1\u001b[0m\u001b[0;34m\u001b[0m\u001b[0;34m\u001b[0m\u001b[0m\n\u001b[1;32m    523\u001b[0m             \u001b[0;32mif\u001b[0m \u001b[0mself\u001b[0m\u001b[0;34m.\u001b[0m\u001b[0m_dataset_kind\u001b[0m \u001b[0;34m==\u001b[0m \u001b[0m_DatasetKind\u001b[0m\u001b[0;34m.\u001b[0m\u001b[0mIterable\u001b[0m \u001b[0;32mand\u001b[0m\u001b[0;31m \u001b[0m\u001b[0;31m\\\u001b[0m\u001b[0;34m\u001b[0m\u001b[0;34m\u001b[0m\u001b[0m\n",
            "\u001b[0;32m/usr/local/lib/python3.7/dist-packages/torch/utils/data/dataloader.py\u001b[0m in \u001b[0;36m_next_data\u001b[0;34m(self)\u001b[0m\n\u001b[1;32m   1201\u001b[0m             \u001b[0;32melse\u001b[0m\u001b[0;34m:\u001b[0m\u001b[0;34m\u001b[0m\u001b[0;34m\u001b[0m\u001b[0m\n\u001b[1;32m   1202\u001b[0m                 \u001b[0;32mdel\u001b[0m \u001b[0mself\u001b[0m\u001b[0;34m.\u001b[0m\u001b[0m_task_info\u001b[0m\u001b[0;34m[\u001b[0m\u001b[0midx\u001b[0m\u001b[0;34m]\u001b[0m\u001b[0;34m\u001b[0m\u001b[0;34m\u001b[0m\u001b[0m\n\u001b[0;32m-> 1203\u001b[0;31m                 \u001b[0;32mreturn\u001b[0m \u001b[0mself\u001b[0m\u001b[0;34m.\u001b[0m\u001b[0m_process_data\u001b[0m\u001b[0;34m(\u001b[0m\u001b[0mdata\u001b[0m\u001b[0;34m)\u001b[0m\u001b[0;34m\u001b[0m\u001b[0;34m\u001b[0m\u001b[0m\n\u001b[0m\u001b[1;32m   1204\u001b[0m \u001b[0;34m\u001b[0m\u001b[0m\n\u001b[1;32m   1205\u001b[0m     \u001b[0;32mdef\u001b[0m \u001b[0m_try_put_index\u001b[0m\u001b[0;34m(\u001b[0m\u001b[0mself\u001b[0m\u001b[0;34m)\u001b[0m\u001b[0;34m:\u001b[0m\u001b[0;34m\u001b[0m\u001b[0;34m\u001b[0m\u001b[0m\n",
            "\u001b[0;32m/usr/local/lib/python3.7/dist-packages/torch/utils/data/dataloader.py\u001b[0m in \u001b[0;36m_process_data\u001b[0;34m(self, data)\u001b[0m\n\u001b[1;32m   1227\u001b[0m         \u001b[0mself\u001b[0m\u001b[0;34m.\u001b[0m\u001b[0m_try_put_index\u001b[0m\u001b[0;34m(\u001b[0m\u001b[0;34m)\u001b[0m\u001b[0;34m\u001b[0m\u001b[0;34m\u001b[0m\u001b[0m\n\u001b[1;32m   1228\u001b[0m         \u001b[0;32mif\u001b[0m \u001b[0misinstance\u001b[0m\u001b[0;34m(\u001b[0m\u001b[0mdata\u001b[0m\u001b[0;34m,\u001b[0m \u001b[0mExceptionWrapper\u001b[0m\u001b[0;34m)\u001b[0m\u001b[0;34m:\u001b[0m\u001b[0;34m\u001b[0m\u001b[0;34m\u001b[0m\u001b[0m\n\u001b[0;32m-> 1229\u001b[0;31m             \u001b[0mdata\u001b[0m\u001b[0;34m.\u001b[0m\u001b[0mreraise\u001b[0m\u001b[0;34m(\u001b[0m\u001b[0;34m)\u001b[0m\u001b[0;34m\u001b[0m\u001b[0;34m\u001b[0m\u001b[0m\n\u001b[0m\u001b[1;32m   1230\u001b[0m         \u001b[0;32mreturn\u001b[0m \u001b[0mdata\u001b[0m\u001b[0;34m\u001b[0m\u001b[0;34m\u001b[0m\u001b[0m\n\u001b[1;32m   1231\u001b[0m \u001b[0;34m\u001b[0m\u001b[0m\n",
            "\u001b[0;32m/usr/local/lib/python3.7/dist-packages/torch/_utils.py\u001b[0m in \u001b[0;36mreraise\u001b[0;34m(self)\u001b[0m\n\u001b[1;32m    423\u001b[0m             \u001b[0;31m# have message field\u001b[0m\u001b[0;34m\u001b[0m\u001b[0;34m\u001b[0m\u001b[0;34m\u001b[0m\u001b[0m\n\u001b[1;32m    424\u001b[0m             \u001b[0;32mraise\u001b[0m \u001b[0mself\u001b[0m\u001b[0;34m.\u001b[0m\u001b[0mexc_type\u001b[0m\u001b[0;34m(\u001b[0m\u001b[0mmessage\u001b[0m\u001b[0;34m=\u001b[0m\u001b[0mmsg\u001b[0m\u001b[0;34m)\u001b[0m\u001b[0;34m\u001b[0m\u001b[0;34m\u001b[0m\u001b[0m\n\u001b[0;32m--> 425\u001b[0;31m         \u001b[0;32mraise\u001b[0m \u001b[0mself\u001b[0m\u001b[0;34m.\u001b[0m\u001b[0mexc_type\u001b[0m\u001b[0;34m(\u001b[0m\u001b[0mmsg\u001b[0m\u001b[0;34m)\u001b[0m\u001b[0;34m\u001b[0m\u001b[0;34m\u001b[0m\u001b[0m\n\u001b[0m\u001b[1;32m    426\u001b[0m \u001b[0;34m\u001b[0m\u001b[0m\n\u001b[1;32m    427\u001b[0m \u001b[0;34m\u001b[0m\u001b[0m\n",
            "\u001b[0;31merror\u001b[0m: Caught error in DataLoader worker process 0.\nOriginal Traceback (most recent call last):\n  File \"/usr/local/lib/python3.7/dist-packages/torch/utils/data/_utils/worker.py\", line 287, in _worker_loop\n    data = fetcher.fetch(index)\n  File \"/usr/local/lib/python3.7/dist-packages/torch/utils/data/_utils/fetch.py\", line 44, in fetch\n    data = [self.dataset[idx] for idx in possibly_batched_index]\n  File \"/usr/local/lib/python3.7/dist-packages/torch/utils/data/_utils/fetch.py\", line 44, in <listcomp>\n    data = [self.dataset[idx] for idx in possibly_batched_index]\n  File \"<ipython-input-13-2ff97ed933ac>\", line 22, in __getitem__\n    image = cv2.cvtColor(image, cv2.COLOR_BGR2RGB).astype(np.float)\ncv2.error: OpenCV(4.1.2) /io/opencv/modules/imgproc/src/color.cpp:182: error: (-215:Assertion failed) !_src.empty() in function 'cvtColor'\n\n"
          ]
        }
      ]
    },
    {
      "cell_type": "code",
      "metadata": {
        "id": "y6zrYflonP8Y"
      },
      "source": [
        ""
      ],
      "execution_count": null,
      "outputs": []
    },
    {
      "cell_type": "code",
      "metadata": {
        "id": "OLboJIyyWpot"
      },
      "source": [
        ""
      ],
      "execution_count": null,
      "outputs": []
    },
    {
      "cell_type": "markdown",
      "metadata": {
        "id": "W0ceWKHNqpnP"
      },
      "source": [
        "# Pre-trained Model from torchvision\n"
      ]
    },
    {
      "cell_type": "code",
      "metadata": {
        "id": "F13r1O-S_zAJ"
      },
      "source": [
        "#Fine Tuning Pre-Trained Model\n",
        "#load a pre-trained model with resnet50 as backbone\n",
        "model = torchvision.models.detection.fasterrcnn_resnet50_fpn(pretrained=True)\n",
        "\n",
        "# replace the classifier with a new one\n",
        "num_classes = 2 # 1 class(fire) and 0(background)\n",
        "\n",
        "#get number of input features for the classifier\n",
        "in_features = model.roi_heads.box_predictor.cls_score.in_features\n",
        "\n",
        "#replace the pre-trained head wit the new one\n",
        "model.roi_heads.box_predictor = FastRCNNPredictor(in_features, num_classes)\n",
        "\n"
      ],
      "execution_count": null,
      "outputs": []
    },
    {
      "cell_type": "code",
      "metadata": {
        "id": "ESnlp4K1qzRE"
      },
      "source": [
        ""
      ],
      "execution_count": null,
      "outputs": []
    },
    {
      "cell_type": "code",
      "metadata": {
        "id": "fpMGovoYqzUL"
      },
      "source": [
        ""
      ],
      "execution_count": null,
      "outputs": []
    },
    {
      "cell_type": "code",
      "metadata": {
        "id": "7vBlCrMuqzXe"
      },
      "source": [
        ""
      ],
      "execution_count": null,
      "outputs": []
    },
    {
      "cell_type": "code",
      "metadata": {
        "id": "D8MmRR3yqzap"
      },
      "source": [
        ""
      ],
      "execution_count": null,
      "outputs": []
    },
    {
      "cell_type": "code",
      "metadata": {
        "id": "G8M788QAqzeX"
      },
      "source": [
        ""
      ],
      "execution_count": null,
      "outputs": []
    }
  ]
}